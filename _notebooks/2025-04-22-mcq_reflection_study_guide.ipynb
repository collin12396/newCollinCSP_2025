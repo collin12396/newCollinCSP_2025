{
 "cells": [
  {
   "cell_type": "raw",
   "id": "b0f1c9d0",
   "metadata": {
    "vscode": {
     "languageId": "raw"
    }
   },
   "source": [
    "---\n",
    "layout: post\n",
    "title: Final exam review and MCQ\n",
    "description:  2021 mcq reflection and study guide\n",
    "type: issues \n",
    "comments: true\n",
    "---"
   ]
  },
  {
   "cell_type": "markdown",
   "id": "7a1a274f",
   "metadata": {},
   "source": [
    "# MCQ reflection:"
   ]
  },
  {
   "cell_type": "markdown",
   "id": "425cf975",
   "metadata": {},
   "source": [
    "## 1. **Question Overview**\n",
    "   - **Total Questions:** [70 Questions]\n",
    "   - **Completed Correctly:** [Answered 57 question correctly]\n",
    "   - **Total Score:** [57 / 70]\n",
    "   - **Link to the mcq** [Link to my answers](https://apclassroom.collegeboard.org/103/assessments/results/66160468/performance)\n",
    "   - **Total time spent** [1 hours 06 minutes]\n",
    "\n",
    "## 2. **Question Breakdown**\n",
    "| Question Number | Correct Answer | My Answer | Reflection on Mistake | How to Fix |\n",
    "|-----------------|----------------|-----------|------------------------|-------------|\n",
    "| Question 10     | C              | B         | I misinterpreted the question and chose the wrong option based on how the code works. | I will focus on understanding the code’s logic in more detail before selecting an answer. |\n",
    "| Question 11     | D              | A         | I didn't fully analyze the problem’s requirements. I chose the option that seemed right without considering all the constraints. | I will read the question more carefully and ensure I understand all aspects before answering. |\n",
    "| Question 15     | A              | C         | I overlooked the given conditions for the problem and misinterpreted the requirements. | I need to pay closer attention to the details in the question and consider all possibilities before choosing an answer. |\n",
    "| Question 28     | D              | A         | I confused the rules in the problem, leading to a mismatch between the answer and the given scenario. | I will carefully review the problem and ensure I understand the logic behind the options. |\n",
    "| Question 40     | B              | C         | I missed key factors in the question and didn't align my answer correctly with the problem. | I need to analyze the question fully and match my understanding to the correct option. |\n",
    "| Question 41     | A              | B         | I misunderstood the intent of the question and selected an option based on incomplete information. | I should focus on identifying key elements of the question to choose the most accurate response. |\n",
    "| Question 43     | A              | D         | I failed to recognize the significance of the data in the problem, which led to an incorrect choice. | I need to evaluate all components of the question and not overlook important details. |\n",
    "| Question 46     | D              | C         | I misinterpreted the structure of the code and didn't fully account for all conditions. | I will pay more attention to understanding how each part of the code functions in different scenarios. |\n",
    "| Question 55     | C              | A         | I didn't thoroughly analyze the scenario, leading me to select an incorrect option. | I need to approach the question step-by-step, considering all outcomes and scenarios. |\n",
    "| Question 58     | D              | C         | I mixed up the features and functionalities in the application, affecting my selection. | I need to ensure I differentiate between the app's features and privacy concerns before selecting an answer. |\n",
    "| Question 61     | B              | A         | I overlooked the implications of the question and chose the wrong option. | I should carefully consider the details in the question and align my answers more closely with the scenario. |\n",
    "| Question 66     | A and D        | A and B   | I only partially understood the logic of the code. While I correctly identified one correct option, I missed the other one due to not fully tracking how the `count` variable changes. | I should trace the execution of each part of the code more carefully, especially how variables change across iterations, to ensure I consider all correct outcomes. |\n",
    "| Question 69     | A and D        | A and C   | I misunderstood what metadata includes and confused it with image data. I incorrectly assumed that whether an image is suitable for black-and-white printing could be inferred from metadata, but this actually requires analyzing pixel color data. | I need to better distinguish between metadata (like time, date, location) and actual image data (like RGB values). In the future, I will think carefully about what kind of information is stored where before answering. |\n",
    "\n",
    "## 3. **Improvement, strength, and weakness**\n",
    "- One of the major improvement I realize is shortening the time I use to complete questions. Even though I still spent a lot of time on certain questions I am not sure, I was able to quickly capture some key words in the question that lead me to the final answers. \n",
    "- Another improvement is that I did better on doing the two answers questions. I was able to recognize both the correct answers instead of only picking one correct answers.\n",
    "\n",
    "- One strength I consist through out my practice of different mcq problems is that I am able to mark the problem I am unsure about, and go back to recheck it. I successfully fixed 3 problems that I am unsure about. \n",
    "- When I really encounter a problem I have no idea how to do, I go to my notebooks of big ideas and use college board resources to check while going over that problem. This make sure I learn from it instead of just purely getting the question wrong.\n",
    "\n",
    "- My major weakness is reading the long problems that has a lot of parts. I also did not did that well on previous practices since I am not good at reading long problems that requires the skill of connecting the a and b part of the problem.\n",
    "\n",
    "## 4. **Reflection on Test-Taking Strategies**\n",
    "   - **Elimination Method:** For many multiple-choice questions, I found that eliminating obviously incorrect answers helped me narrow down the choices, making it easier to arrive at the correct answer. This method works especially well when faced with a question that has one or two clearly wrong answers, allowing me to focus on the remaining options.\n",
    "   - **Time Management:** I paced myself well throughout the test, ensuring that I did not spend too much time on a single question. However, I could improve by leaving time to review flagged questions at the end. This strategy is effective for balancing the need to complete the test within time constraints, but I need to ensure I don’t rush through difficult questions without fully considering them.\n",
    "   - **Second-Guessing:** There were moments when I changed my answer upon reviewing, sometimes leading to corrections and other times causing me to switch from a correct to an incorrect answer. I will work on balancing my confidence in initial instincts with logical re-evaluation. This strategy can be helpful when I initially feel uncertain but should be used with caution, as overthinking can lead to mistakes.\n",
    "   - **Handling Difficult Questions:** When encountering a particularly challenging question, I used a strategy of marking it and returning later rather than getting stuck and losing time. This approach helped me complete the test efficiently, allowing me to focus on easier questions first and return to the difficult ones with a fresh perspective.\n",
    "\n",
    "## 5. **Plans for Improvement**\n",
    "   - **Strengthen Understanding of Binary and RGB Values:** Practice converting binary numbers to decimal and understanding how RGB values are derived from bit patterns. Use interactive tools or coding exercises to reinforce the concept. This will be helpful for problems related to computing and image processing.\n",
    "   - **Improve Attention to Code Execution Order:** Focus on reading code carefully, paying attention to loops and conditions, and tracing execution step-by-step to avoid misinterpreting logic. For code logic problems, I will diagram the flow of execution to clarify how each part of the code interacts.\n",
    "   - **Enhance Debugging Skills for Mathematical Operations:** Rework problems involving calculations to avoid careless mistakes. Implement a habit of double-checking math operations before finalizing an answer, especially in problems involving calculations or data analysis.\n",
    "   - **Develop Stronger Diagram Interpretation Skills:** Spend more time analyzing complex diagrams and network routing problems. Use real-world examples and simulations to strengthen pattern recognition. This strategy will be effective for problems that rely on interpreting complex visuals or networks, allowing me to better understand and solve the problem.\n"
   ]
  },
  {
   "cell_type": "markdown",
   "id": "5548b999",
   "metadata": {},
   "source": [
    "# Review I used and notes"
   ]
  },
  {
   "cell_type": "markdown",
   "id": "ac05d231",
   "metadata": {},
   "source": [
    "| Topic                              | Analysis of the Topic                                                                                       | [Lesson Link](#)   | [My Homework Link](#) |\n",
    "|------------------------------------|-------------------------------------------------------------------------------------------------------------|--------------------|------------------------|\n",
    "| Beneficial / Harmful Effects       | - Shows trade-offs of technology use  <br> - Can improve life or create risks (e.g., privacy, dependency)   | [Lesson Link](https://sanpranav.github.io/QcommVNE_Frontend/Benefical)   | [My Homework Link](#)  |\n",
    "| Digital Divide                     | - Not everyone has equal access to technology  <br> - Affects learning, job access, and communication       | [Lesson Link](#)   | [My Homework Link](https://collin12396.github.io/newCollinCSP_2025/2025/03/24/digital_devide_IPYNB_2_.html)  |\n",
    "| Computing Bias                     | - Bias in data or design can harm users  <br> - Can be unintentional but have serious effects               | [Lesson Link](#)   | [My Homework Link](#)  |\n",
    "| Crowdsourcing                      | - Solves problems through collective input  <br> - Useful for funding, reviews, data gathering              | [Lesson Link](#)   | [My Homework Link](#)  |\n",
    "| Legal / Ethical Concerns           | - Involves copyright, plagiarism, user consent  <br> - Raises questions about responsible computing         | [Lesson Link](#)   | [My Homework Link](#)  |\n",
    "| Safe Computing                     | - Promotes password security and avoiding scams  <br> - Protects devices and personal information           | [Lesson Link](#)   | [My Homework Link](#)  |\n",
    "| Binary Search Algorithm            | - Efficient search method for sorted data  <br> - Reduces time complexity from linear to logarithmic        | [Lesson Link](#)   | [My Homework Link](#)  |\n",
    "| Lists and Filtering Algorithm      | - Extracts relevant data from lists using loops  <br> - Useful in data analysis and condition-based logic   | [Lesson Link](#)   | [My Homework Link](#)  |\n",
    "| Simulation/Games and Random Algorithms | - Simulates real-world events or games  <br> - Often uses random values for realism or unpredictability    | [Lesson Link](#)   | [My Homework Link](#)  |\n",
    "| Big O and Algorithm Efficiency     | - Describes how run time grows with input size  <br> - Helps compare performance of algorithms              | [Lesson Link](#)   | [My Homework Link](#)  |\n",
    "| Undecidable Problems, Graphs + Heuristics | - Some problems can’t be solved by an algorithm  <br> - Heuristics give “good enough” solutions in hard cases | [Lesson Link](#) | [My Homework Link](#)  |\n"
   ]
  },
  {
   "cell_type": "markdown",
   "id": "3fe8fadd",
   "metadata": {},
   "source": [
    "## **Additional sources**\n",
    "- College board review page: [Review page](https://apclassroom.collegeboard.org/103/home?unit=-1)\n",
    "- Class nigthahwk coder page: [coder page](https://nighthawkcoders.github.io/portfolio_2025/navigation/section/csp)\n",
    "- Khan academy for AP CSP: [extra practice](https://www.khanacademy.org/computing/ap-computer-science-principles)\n",
    "- AP CSP exam review on youtube: [review video](https://www.youtube.com/watch?v=wb3taZ5bjzw)"
   ]
  }
 ],
 "metadata": {
  "language_info": {
   "name": "python"
  }
 },
 "nbformat": 4,
 "nbformat_minor": 5
}
