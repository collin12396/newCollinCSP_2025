{
 "cells": [
  {
   "cell_type": "raw",
   "id": "35e09a1b",
   "metadata": {
    "vscode": {
     "languageId": "raw"
    }
   },
   "source": [
    "---\n",
    "layout: post\n",
    "title: Tri 3 final\n",
    "description:  Tri three final review\n",
    "type: issues \n",
    "comments: true\n",
    "---"
   ]
  },
  {
   "cell_type": "markdown",
   "id": "b3dac8ea",
   "metadata": {},
   "source": [
    "##  CSP Project Links Overview\n",
    "\n",
    "###  Trimester 1 Projects\n",
    "\n",
    "| Lesson Topic            | Link |\n",
    "|-------------------------|------|\n",
    "| 1. Intro to Programming | [Visit](https://collin12396.github.io/newCollinCSP_2025/one/) |\n",
    "| 2. Boolean Expressions  | [Visit](https://collin12396.github.io/newCollinCSP_2025/tenb/) |\n",
    "| 3. Conditionals         | [Visit](https://collin12396.github.io/newCollinCSP_2025/ten/) |\n",
    "| 4. Loops                | [Visit](https://collin12396.github.io/newCollinCSP_2025/six/) |\n",
    "| 5. Functions            | [Visit](https://collin12396.github.io/newCollinCSP_2025/seven/) |\n",
    "| 6. Parameters & Return  | [Visit](https://collin12396.github.io/newCollinCSP_2025/eight/) |\n",
    "| 7. Lists                | [Visit](https://collin12396.github.io/newCollinCSP_2025/four/) |\n",
    "| 8. Dictionaries         | [Visit](https://collin12396.github.io/newCollinCSP_2025/five/) |\n",
    "\n",
    "---\n",
    "\n",
    "###  Trimester 3 Projects\n",
    "\n",
    "| Lesson Topic                        | Link |\n",
    "|------------------------------------|------|\n",
    "| 1. Digital Divide                  | [Visit](https://collin12396.github.io/newCollinCSP_2025/2025/03/24/digital_devide_IPYNB_2_.html) |\n",
    "| 2. Computing Bias                  | [Visit](https://collin12396.github.io/newCollinCSP_2025/2025/03/25/computingbia_IPYNB_2_.html) |\n",
    "| 3. Legal & Ethical Computing       | [Visit](https://collin12396.github.io/newCollinCSP_2025/2025/04/01/Legalandethical_IPYNB_2_.html) |\n",
    "| 4. Safe Computing Practices        | [Visit](https://collin12396.github.io/newCollinCSP_2025/2025/04/03/safe_computing_IPYNB_2_.html) |\n",
    "| 5. Binary Search                   | [Visit](https://collin12396.github.io/newCollinCSP_2025/2025/04/08/binarysearch_IPYNB_2_.html) |\n",
    "| 6. Lists and Filters               | [Visit](https://collin12396.github.io/newCollinCSP_2025/2025/04/09/list_and_filters_IPYNB_2_.html) |\n",
    "| 7. Cybersecurity Event             | [Visit](https://collin12396.github.io/newCollinCSP_2025/2025/04/09/cybersecurityevent_IPYNB_2_.html) |\n",
    "| 8. Random Algorithms               | [Visit](https://collin12396.github.io/newCollinCSP_2025/2025/04/14/random_algorithem_IPYNB_2_.html) |\n",
    "| 9. Big-O Algorithm Efficiency      | [Visit](https://collin12396.github.io/newCollinCSP_2025/2025/04/21/big_O_algorithm_efficiency_IPYNB_2_.html) |\n",
    "| 10. Undecidable Problems           | [Visit](https://collin12396.github.io/newCollinCSP_2025/2025/04/23/undecidable_problem_IPYNB_2_.html) |\n",
    "| 11. Binary Logic                   | [Visit](https://collin12396.github.io/newCollinCSP_2025/2025/04/28/binary_logic_IPYNB_2_.html) |\n",
    "| 12. Color Code & Pixels            | [Visit](https://collin12396.github.io/newCollinCSP_2025/2025/04/29/colorcode_IPYNB_2_.html) |"
   ]
  },
  {
   "cell_type": "markdown",
   "id": "41132917",
   "metadata": {},
   "source": [
    "## Overview of Projects from Blog  \n",
    "**Summary:** Technical and collaborative growth through building interactive features, solving problems, and learning backend skills.\n",
    "\n",
    "- Started Trimester 1 with no backend experience; by Trimester 3, built full API with Flask.\n",
    "- Designed Dexcom-themed crossword using JavaScript DOM manipulation and data arrays.\n",
    "- Created a matching game feature for diabetes terms with score logic and user feedback.\n",
    "- Debugged JSON parsing errors while connecting frontend game data to backend.\n",
    "- Used GitHub Issues to split large tasks into trackable, smaller parts.\n",
    "- Practiced pair programming to solve logic bugs faster and learn better coding habits.\n",
    "- Switched from static pages to Flask backend after realizing the need for dynamic data loading.\n",
    "- Used ChatGPT and Copilot to understand unfamiliar code and fix syntax issues.\n",
    "- Created API endpoints to serve game data using Flask and JSON.\n",
    "- Hosted and tested live project with teammates, refining based on user input.\n"
   ]
  },
  {
   "cell_type": "markdown",
   "id": "0a2ae18b",
   "metadata": {},
   "source": [
    "## Certification of Homework Success  \n",
    "**Summary:** Grew through debugging, learning from feedback, and using AI tools for deeper understanding.\n",
    "\n",
    "- Refactored broken loops and conditionals in practice exercises by identifying logic flaws.  \n",
    "- Reviewed teacher comments and applied them directly to fix lesson notebook errors.  \n",
    "- Used AI to explain Python errors I didn’t understand during list filtering tasks.  \n",
    "- Applied Big-O efficiency lessons to improve performance in random and search algorithm code.  \n",
    "- Practiced algorithm design in binary search lesson by drawing step-by-step logic.  \n",
    "- Applied cybersecurity learnings to improve GlucoQuest login protection and data flow.  \n",
    "- Understood College Board content like data structures, search, and security through hands-on lessons.  \n",
    "- Homework gave real coding activities to apply concepts like filtering, logic, and algorithms.\n"
   ]
  },
  {
   "cell_type": "markdown",
   "id": "92d8191e",
   "metadata": {},
   "source": [
    "###  N@tM (Night at the Museum) Showcase  \n",
    "**Summary:** Demonstrated project features to visitors and practiced communication, explanation, and collaboration.\n",
    "\n",
    "- Explained Dexcom GlucoQuest features like crossword, matching game, and login system to guests.  \n",
    "- Highlighted how each feature connects to diabetes awareness and user education.  \n",
    "- Took turns with teammates presenting backend setup, game logic, and design flow.  \n",
    "- Answered visitor questions clearly while adapting explanations for different age groups.  \n",
    "- Practiced public speaking and interactive demo skills under real-world pressure.  \n",
    "- Collected visitor feedback to guide future improvements and UX ideas.\n",
    "\n",
    "**Photos from N@tM:**  \n",
    "![Photo 1 – Group Presenting](https://github.com/collin12396/newCollinCSP_2025/blob/main/images/nightatmuseum.png?raw=true)\n",
    "\n",
    "**Related Links:**  \n",
    "- [Link to Blog Repository](https://github.com/collin12396/newCollinCSP_2025)  \n",
    "- [My GitHub Profile](https://github.com/collin12396)\n",
    "\n"
   ]
  },
  {
   "cell_type": "markdown",
   "id": "07a2669f",
   "metadata": {},
   "source": []
  }
 ],
 "metadata": {
  "language_info": {
   "name": "python"
  }
 },
 "nbformat": 4,
 "nbformat_minor": 5
}
