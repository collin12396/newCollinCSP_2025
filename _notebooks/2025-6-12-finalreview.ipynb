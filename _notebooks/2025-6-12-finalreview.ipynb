{
 "cells": [
  {
   "cell_type": "raw",
   "id": "35e09a1b",
   "metadata": {
    "vscode": {
     "languageId": "raw"
    }
   },
   "source": [
    "---\n",
    "layout: post\n",
    "title: Tri 3 final\n",
    "description:  Tri three final review\n",
    "type: issues \n",
    "comments: true\n",
    "---"
   ]
  },
  {
   "cell_type": "markdown",
   "id": "b3dac8ea",
   "metadata": {},
   "source": [
    "##  CSP Project Links Overview\n",
    "\n",
    "###  Trimester 1 Projects\n",
    "\n",
    "| Lesson Topic            | Link |\n",
    "|-------------------------|------|\n",
    "| 1. Intro to Programming | [Visit](https://collin12396.github.io/newCollinCSP_2025/one/) |\n",
    "| 2. Boolean Expressions  | [Visit](https://collin12396.github.io/newCollinCSP_2025/tenb/) |\n",
    "| 3. Conditionals         | [Visit](https://collin12396.github.io/newCollinCSP_2025/ten/) |\n",
    "| 4. Loops                | [Visit](https://collin12396.github.io/newCollinCSP_2025/six/) |\n",
    "| 5. Functions            | [Visit](https://collin12396.github.io/newCollinCSP_2025/seven/) |\n",
    "| 6. Parameters & Return  | [Visit](https://collin12396.github.io/newCollinCSP_2025/eight/) |\n",
    "| 7. Lists                | [Visit](https://collin12396.github.io/newCollinCSP_2025/four/) |\n",
    "| 8. Dictionaries         | [Visit](https://collin12396.github.io/newCollinCSP_2025/five/) |\n",
    "\n",
    "---\n",
    "\n",
    "###  Trimester 3 Projects\n",
    "\n",
    "| Lesson Topic                        | Link |\n",
    "|------------------------------------|------|\n",
    "| 1. Digital Divide                  | [Visit](https://collin12396.github.io/newCollinCSP_2025/2025/03/24/digital_devide_IPYNB_2_.html) |\n",
    "| 2. Computing Bias                  | [Visit](https://collin12396.github.io/newCollinCSP_2025/2025/03/25/computingbia_IPYNB_2_.html) |\n",
    "| 3. Legal & Ethical Computing       | [Visit](https://collin12396.github.io/newCollinCSP_2025/2025/04/01/Legalandethical_IPYNB_2_.html) |\n",
    "| 4. Safe Computing Practices        | [Visit](https://collin12396.github.io/newCollinCSP_2025/2025/04/03/safe_computing_IPYNB_2_.html) |\n",
    "| 5. Binary Search                   | [Visit](https://collin12396.github.io/newCollinCSP_2025/2025/04/08/binarysearch_IPYNB_2_.html) |\n",
    "| 6. Lists and Filters               | [Visit](https://collin12396.github.io/newCollinCSP_2025/2025/04/09/list_and_filters_IPYNB_2_.html) |\n",
    "| 7. Cybersecurity Event             | [Visit](https://collin12396.github.io/newCollinCSP_2025/2025/04/09/cybersecurityevent_IPYNB_2_.html) |\n",
    "| 8. Random Algorithms               | [Visit](https://collin12396.github.io/newCollinCSP_2025/2025/04/14/random_algorithem_IPYNB_2_.html) |\n",
    "| 9. Big-O Algorithm Efficiency      | [Visit](https://collin12396.github.io/newCollinCSP_2025/2025/04/21/big_O_algorithm_efficiency_IPYNB_2_.html) |\n",
    "| 10. Undecidable Problems           | [Visit](https://collin12396.github.io/newCollinCSP_2025/2025/04/23/undecidable_problem_IPYNB_2_.html) |\n",
    "| 11. Binary Logic                   | [Visit](https://collin12396.github.io/newCollinCSP_2025/2025/04/28/binary_logic_IPYNB_2_.html) |\n",
    "| 12. Color Code & Pixels            | [Visit](https://collin12396.github.io/newCollinCSP_2025/2025/04/29/colorcode_IPYNB_2_.html) |"
   ]
  },
  {
   "cell_type": "markdown",
   "id": "41132917",
   "metadata": {},
   "source": []
  }
 ],
 "metadata": {
  "language_info": {
   "name": "python"
  }
 },
 "nbformat": 4,
 "nbformat_minor": 5
}
