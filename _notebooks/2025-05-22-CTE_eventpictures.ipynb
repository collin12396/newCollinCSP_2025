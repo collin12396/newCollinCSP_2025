{
 "cells": [
  {
   "cell_type": "raw",
   "id": "e9844470",
   "metadata": {
    "vscode": {
     "languageId": "raw"
    }
   },
   "source": [
    "---\n",
    "layout: post\n",
    "title: CTE pictures and summary\n",
    "description:  CTE Pictures and event experiences\n",
    "type: issues \n",
    "comments: true\n",
    "---"
   ]
  },
  {
   "cell_type": "markdown",
   "id": "a79ed4bc",
   "metadata": {},
   "source": []
  }
 ],
 "metadata": {
  "language_info": {
   "name": "python"
  }
 },
 "nbformat": 4,
 "nbformat_minor": 5
}
