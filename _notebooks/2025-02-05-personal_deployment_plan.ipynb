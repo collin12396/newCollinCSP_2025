{
 "cells": [
  {
   "cell_type": "raw",
   "metadata": {
    "vscode": {
     "languageId": "raw"
    }
   },
   "source": [
    "---\n",
    "layout: post\n",
    "title: Deployment blog\n",
    "description:  About group and individual deployment\n",
    "type: issues \n",
    "comments: true\n",
    "---"
   ]
  },
  {
   "cell_type": "markdown",
   "metadata": {},
   "source": [
    "## From Local to deployment as a group:\n",
    "Our group website travelor is a website built to try to help travelors to find their ideal destination. This time, our group is changing the port given by teachers at the beginning to our own port, and deploy it using the aws server. This will make the website truly available to users beside me and my teammember, while make sure the security of the website. As a group, we changed the set up, the port, and add our own port to important files such as docker. We also add our website to the nighthawk aws server. As an individual, I will make sure my function in the deployed website work. Also regulating the database that available for people to store their comment in to make sure new comments are always viewable to users and comments can be get."
   ]
  },
  {
   "cell_type": "markdown",
   "metadata": {},
   "source": [
    "## **Current Comment Model Development**\n",
    "I recently developed a comment feature for *Travelors*. Here’s a simplified look at the components:\n",
    "\n",
    "1. **API Layer:** A Flask-based API to manage comment creation and retrieval. \n",
    "   - **POST /api/comment:** Accepts and validates user input, then stores it in the database.\n",
    "   - **GET /api/comment:** Retrieves all comments in JSON format.\n",
    "\n",
    "2. **Backend and Database Integration:** I created a table model for the comments to store them persistently. \n",
    "\n",
    "3. **Frontend:** A JavaScript function to call the API and display comments dynamically.\n",
    "\n",
    "---\n",
    "\n",
    "### **1. Error Handling and Validation**\n",
    "- Add clear error messages in the API responses. \n",
    "- Log validation errors for debugging.\n",
    "\n",
    "### **2. Port update**\n",
    "- Update all the port relative to the back and fronent to make sure it correspond to the port of 8402.\n",
    "\n",
    "### **3. Frontend Improvements**\n",
    "- Display a loading indicator when users submit or retrieve comments.\n",
    "- Show a success message once comments are posted.\n",
    "\n",
    "### **4. Monitoring Using AWS CloudWatch**\n",
    "- Enable basic monitoring to track API requests and errors using CloudWatch logs. \n",
    "\n",
    "### **5. Recheck the websites**\n",
    "- Recheck the website to make sure database, api, front and backend connect to each other."
   ]
  },
  {
   "cell_type": "markdown",
   "metadata": {},
   "source": [
    "### Updated Burndown list:\n",
    "![Frontend Image](https://github.com/collin12396/newCollinCSP_2025/blob/main/images/Burndown.png?raw=true)"
   ]
  },
  {
   "cell_type": "markdown",
   "metadata": {},
   "source": [
    "https://github.com/users/Annie0523/projects/1/views/1?pane=issue&itemId=89916910&issue=Annie0523%7Ctravelor_frontend%7C8"
   ]
  },
  {
   "cell_type": "markdown",
   "metadata": {},
   "source": []
  }
 ],
 "metadata": {
  "language_info": {
   "name": "python"
  }
 },
 "nbformat": 4,
 "nbformat_minor": 2
}
