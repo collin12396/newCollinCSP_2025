{
 "cells": [
  {
   "cell_type": "raw",
   "id": "ac8c061e",
   "metadata": {
    "vscode": {
     "languageId": "raw"
    }
   },
   "source": [
    "---\n",
    "layout: post\n",
    "title: Cybersecurity notes\n",
    "description:  Notes on the cybersecurity panel event.\n",
    "type: issues \n",
    "comments: true\n",
    "---"
   ]
  },
  {
   "cell_type": "markdown",
   "id": "9b7108bc",
   "metadata": {},
   "source": [
    "# Invited Panelists:\n",
    "- David Tomasz: The intelligence analyst, san diego field office, FBI\n",
    "\n",
    "- Tricia Mercer: Chief people officer at indus technology, and the member of board of directors.\n",
    "\n",
    "- Victor Nzeata: Adjunct professor of cyber threat intelligence at USD, and the founder/ceo of cyber brain academy"
   ]
  },
  {
   "cell_type": "markdown",
   "id": "8b513dd4",
   "metadata": {},
   "source": [
    "# Cybersecurity Panel Notes\n",
    "\n",
    "---\n",
    "\n",
    "## Topic 1 and question: What is Cybersecurity?\n",
    "\n",
    "### Questions from Cybersecurity Club Members\n",
    "- What is cybersecurity?\n",
    "- What is a zero-day vulnerability?\n",
    "- How do professionals navigate ethical issues in cybersecurity?\n",
    "\n",
    "### Answers from Invited Professionals\n",
    "- Cybersecurity is the practice of protecting systems, networks, and programs from digital attacks.\n",
    "- A **zero-day vulnerability** refers to a flaw in software or hardware that is unknown to the vendor or the security community, making it exploitable by attackers before any fix or patch is released.\n",
    "- To navigate ethical dilemmas, professionals first identify whether the situation involves a conflict of values, rights, responsibilities, or duties.\n",
    "  - Example: A conflict may arise between protecting user privacy and reporting security breaches to the public or authorities.\n",
    "\n",
    "### Additional Notes\n",
    "- Cybersecurity threats include attempts to steal data.\n",
    "- When data theft occurs, professionals report the violation and work to move information to a safer location.\n",
    "- Companies can suffer serious damage from the loss of important information due to breaches.\n",
    "---\n",
    "\n",
    "## Topic 2: Career Opportunities in Cybersecurity\n",
    "\n",
    "### Questions from Cybersecurity Club Members\n",
    "- What should students who are interested in computers and cybersecurity do as the next step?\n",
    "- What are some of the biggest obstacles in understanding computer science?\n",
    "\n",
    "### Answers from Invited Professionals\n",
    "- Students should start by building a strong understanding of the subject through study and hands-on experience.\n",
    "- Key steps include:\n",
    "  - Find a mentor\n",
    "  - Pursue internships\n",
    "  - Learn in real-world scenarios\n",
    "  - Prioritize basic concepts before tackling advanced ones\n",
    "- Career interest in cybersecurity does not always stem from a passion for computers—some professionals begin with other goals or fields of study.\n",
    "- Success in the field also depends on soft skills:\n",
    "  - Leadership\n",
    "  - Teamwork\n",
    "  - Good personality\n",
    "- The biggest challenge is often **communicating technical ideas in a business context**—being able to speak to leadership and justify ideas with clear, strategic arguments.\n",
    "- Another obstacle is adapting to unfamiliar environments and working with people from different backgrounds.\n",
    "\n",
    "### Additional Notes\n",
    "- First exposure to the field often comes through an introductory computer science book or class.\n",
    "- Career paths are diverse and don’t always follow a traditional tech trajectory.\n",
    "\n",
    "---\n",
    "\n",
    "## Topic 3: The Future of Cybersecurity\n",
    "\n",
    "### Questions from Cybersecurity Club Members\n",
    "- What is the trend of development in cybersecurity?\n",
    "\n",
    "### Answers from Invited Professionals\n",
    "- A major trend is the **integration of artificial intelligence** into cybersecurity systems.\n",
    "- There is a growing need to **educate new professionals** about how to use advanced technology like AI effectively.\n",
    "- The cybersecurity field is highly competitive and global in scale.\n",
    "  - Professionals and researchers compete across countries like the United States, Russia, and China.\n",
    "\n",
    "### Additional Notes\n",
    "- Keeping up with rapid technological advancement is a central challenge for the future workforce in cybersecurity.\n",
    "- Continuous research and international collaboration or competition will shape the future of digital security.\n",
    "\n",
    "---"
   ]
  },
  {
   "cell_type": "markdown",
   "id": "101cf00b",
   "metadata": {},
   "source": [
    "# The picture of me participate in the event:\n"
   ]
  },
  {
   "cell_type": "markdown",
   "id": "4d231ea5",
   "metadata": {},
   "source": [
    "# Link to the notes I took during the event that I used to make this blog:\n",
    "[My notes](https://docs.google.com/document/d/1HizxnC0t-xN47QwPQm8QYqQi4900rGFW-i9bMovW3Ds/edit?tab=t.0)"
   ]
  },
  {
   "cell_type": "markdown",
   "id": "896fb16a",
   "metadata": {},
   "source": []
  }
 ],
 "metadata": {
  "language_info": {
   "name": "python"
  }
 },
 "nbformat": 4,
 "nbformat_minor": 5
}
