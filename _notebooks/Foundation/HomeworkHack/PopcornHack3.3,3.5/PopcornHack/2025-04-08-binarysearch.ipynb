{
 "cells": [
  {
   "cell_type": "raw",
   "id": "5102ab15",
   "metadata": {
    "vscode": {
     "languageId": "raw"
    }
   },
   "source": [
    "---\n",
    "layout: post\n",
    "title: Binary search\n",
    "description:  binary search homework\n",
    "type: issues \n",
    "comments: true\n",
    "---"
   ]
  },
  {
   "cell_type": "markdown",
   "id": "e07baa2f",
   "metadata": {},
   "source": [
    "## Homework hack 1"
   ]
  },
  {
   "cell_type": "code",
   "execution_count": 1,
   "id": "b2b793fc",
   "metadata": {},
   "outputs": [
    {
     "name": "stdout",
     "output_type": "stream",
     "text": [
      "Target 8 found at index: 4\n"
     ]
    }
   ],
   "source": [
    "# Homework Hack 1: Binary Search on a Rotated Array\n",
    "\n",
    "def search_rotated_array(arr, target):\n",
    "    left, right = 0, len(arr) - 1\n",
    "\n",
    "    while left <= right:\n",
    "        mid = (left + right) // 2\n",
    "\n",
    "        if arr[mid] == target:\n",
    "            return mid\n",
    "\n",
    "        # Check which half is sorted\n",
    "        if arr[left] <= arr[mid]:  # Left half is sorted\n",
    "            if arr[left] <= target < arr[mid]:\n",
    "                right = mid - 1\n",
    "            else:\n",
    "                left = mid + 1\n",
    "        else:  # Right half is sorted\n",
    "            if arr[mid] < target <= arr[right]:\n",
    "                left = mid + 1\n",
    "            else:\n",
    "                right = mid - 1\n",
    "\n",
    "    return -1\n",
    "\n",
    "# Example usage\n",
    "rotated_array = [13, 18, 25, 2, 8, 10]\n",
    "target = 8\n",
    "\n",
    "index = search_rotated_array(rotated_array, target)\n",
    "print(f\"Target {target} found at index: {index}\" if index != -1 else \"Target not found.\")"
   ]
  },
  {
   "cell_type": "markdown",
   "id": "c4a753e4",
   "metadata": {},
   "source": [
    "## Homework hack 2"
   ]
  },
  {
   "cell_type": "code",
   "execution_count": 3,
   "id": "0425e683",
   "metadata": {},
   "outputs": [
    {
     "name": "stdout",
     "output_type": "stream",
     "text": [
      "First and last occurrence of 2: (1, 3)\n"
     ]
    }
   ],
   "source": [
    "# Homework Hack 2: Find the First and Last Occurrence of an Element\n",
    "\n",
    "def find_first_and_last(arr, target):\n",
    "    def find_bound(is_first):\n",
    "        left, right = 0, len(arr) - 1\n",
    "        bound = -1\n",
    "\n",
    "        while left <= right:\n",
    "            mid = (left + right) // 2\n",
    "            if arr[mid] == target:\n",
    "                bound = mid\n",
    "                if is_first:\n",
    "                    right = mid - 1  # keep searching left\n",
    "                else:\n",
    "                    left = mid + 1   # keep searching right\n",
    "            elif arr[mid] < target:\n",
    "                left = mid + 1\n",
    "            else:\n",
    "                right = mid - 1\n",
    "        return bound\n",
    "\n",
    "    first = find_bound(True)\n",
    "    last = find_bound(False)\n",
    "    return (first, last) if first != -1 else -1\n",
    "\n",
    "# Example test\n",
    "arr = [1, 2, 2, 2, 3, 4, 5]\n",
    "target = 2\n",
    "\n",
    "result = find_first_and_last(arr, target)\n",
    "print(f\"First and last occurrence of {target}: {result}\")"
   ]
  },
  {
   "cell_type": "markdown",
   "id": "d66779d6",
   "metadata": {},
   "source": [
    "## Homework hack 3"
   ]
  },
  {
   "cell_type": "code",
   "execution_count": 4,
   "id": "53039aef",
   "metadata": {},
   "outputs": [
    {
     "name": "stdout",
     "output_type": "stream",
     "text": [
      "Smallest element >= 8: 9\n"
     ]
    }
   ],
   "source": [
    "# Homework Hack 3: Search for the Smallest Element Greater Than or Equal to Target\n",
    "\n",
    "def search_smallest_greater_or_equal(arr, target):\n",
    "    left, right = 0, len(arr) - 1\n",
    "    result = -1\n",
    "\n",
    "    while left <= right:\n",
    "        mid = (left + right) // 2\n",
    "        if arr[mid] >= target:\n",
    "            result = arr[mid]\n",
    "            right = mid - 1  # Try to find a smaller valid element\n",
    "        else:\n",
    "            left = mid + 1\n",
    "\n",
    "    return result\n",
    "\n",
    "# Example test\n",
    "arr = [1, 3, 5, 7, 9, 11]\n",
    "target = 8\n",
    "\n",
    "result = search_smallest_greater_or_equal(arr, target)\n",
    "print(f\"Smallest element >= {target}: {result}\")\n",
    "\n"
   ]
  },
  {
   "cell_type": "code",
   "execution_count": null,
   "id": "53e3c922",
   "metadata": {},
   "outputs": [],
   "source": []
  }
 ],
 "metadata": {
  "kernelspec": {
   "display_name": ".venv",
   "language": "python",
   "name": "python3"
  },
  "language_info": {
   "codemirror_mode": {
    "name": "ipython",
    "version": 3
   },
   "file_extension": ".py",
   "mimetype": "text/x-python",
   "name": "python",
   "nbconvert_exporter": "python",
   "pygments_lexer": "ipython3",
   "version": "3.12.3"
  }
 },
 "nbformat": 4,
 "nbformat_minor": 5
}
