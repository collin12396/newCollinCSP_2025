{
 "cells": [
  {
   "cell_type": "raw",
   "id": "5102ab15",
   "metadata": {
    "vscode": {
     "languageId": "raw"
    }
   },
   "source": [
    "---\n",
    "layout: post\n",
    "title: Binary search\n",
    "description:  binary search homework\n",
    "type: issues \n",
    "comments: true\n",
    "---"
   ]
  },
  {
   "cell_type": "markdown",
   "id": "e07baa2f",
   "metadata": {},
   "source": [
    "## Homework hack 1"
   ]
  },
  {
   "cell_type": "code",
   "execution_count": 1,
   "id": "b2b793fc",
   "metadata": {},
   "outputs": [],
   "source": [
    "def search_rotated_array(arr, target):\n",
    "    left, right = 0, len(arr) - 1\n",
    "\n",
    "    while left <= right:\n",
    "        mid = (left + right) // 2\n",
    "\n",
    "        if arr[mid] == target:\n",
    "            return mid\n",
    "\n",
    "        # Check which half is sorted\n",
    "        if arr[left] <= arr[mid]:  # Left half is sorted\n",
    "            if arr[left] <= target < arr[mid]:\n",
    "                right = mid - 1\n",
    "            else:\n",
    "                left = mid + 1\n",
    "        else:  # Right half is sorted\n",
    "            if arr[mid] < target <= arr[right]:\n",
    "                left = mid + 1\n",
    "            else:\n",
    "                right = mid - 1\n",
    "\n",
    "    return -1"
   ]
  },
  {
   "cell_type": "markdown",
   "id": "c4a753e4",
   "metadata": {},
   "source": [
    "## Homework hack 2"
   ]
  },
  {
   "cell_type": "code",
   "execution_count": 2,
   "id": "0425e683",
   "metadata": {},
   "outputs": [],
   "source": [
    "def find_first_and_last(arr, target):\n",
    "    def find_bound(is_first):\n",
    "        left, right = 0, len(arr) - 1\n",
    "        bound = -1\n",
    "\n",
    "        while left <= right:\n",
    "            mid = (left + right) // 2\n",
    "            if arr[mid] == target:\n",
    "                bound = mid\n",
    "                if is_first:\n",
    "                    right = mid - 1  # keep searching left\n",
    "                else:\n",
    "                    left = mid + 1   # keep searching right\n",
    "            elif arr[mid] < target:\n",
    "                left = mid + 1\n",
    "            else:\n",
    "                right = mid - 1\n",
    "        return bound\n",
    "\n",
    "    first = find_bound(True)\n",
    "    last = find_bound(False)\n",
    "    return (first, last) if first != -1 else -1"
   ]
  },
  {
   "cell_type": "markdown",
   "id": "d66779d6",
   "metadata": {},
   "source": [
    "## Homework hack 3"
   ]
  },
  {
   "cell_type": "code",
   "execution_count": 3,
   "id": "53039aef",
   "metadata": {},
   "outputs": [],
   "source": [
    "def search_smallest_greater_or_equal(arr, target):\n",
    "    left, right = 0, len(arr) - 1\n",
    "    result = -1\n",
    "\n",
    "    while left <= right:\n",
    "        mid = (left + right) // 2\n",
    "        if arr[mid] >= target:\n",
    "            result = arr[mid]\n",
    "            right = mid - 1  # Try to find a smaller valid element\n",
    "        else:\n",
    "            left = mid + 1\n",
    "\n",
    "    return result\n"
   ]
  },
  {
   "cell_type": "code",
   "execution_count": null,
   "id": "53e3c922",
   "metadata": {},
   "outputs": [],
   "source": []
  }
 ],
 "metadata": {
  "kernelspec": {
   "display_name": ".venv",
   "language": "python",
   "name": "python3"
  },
  "language_info": {
   "codemirror_mode": {
    "name": "ipython",
    "version": 3
   },
   "file_extension": ".py",
   "mimetype": "text/x-python",
   "name": "python",
   "nbconvert_exporter": "python",
   "pygments_lexer": "ipython3",
   "version": "3.12.3"
  }
 },
 "nbformat": 4,
 "nbformat_minor": 5
}
