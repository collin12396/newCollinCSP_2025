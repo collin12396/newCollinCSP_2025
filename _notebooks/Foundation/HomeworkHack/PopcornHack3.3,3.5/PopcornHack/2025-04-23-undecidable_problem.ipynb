{
 "cells": [
  {
   "cell_type": "raw",
   "id": "509c5150",
   "metadata": {
    "vscode": {
     "languageId": "raw"
    }
   },
   "source": [
    "---\n",
    "layout: post\n",
    "title: Undecidable Problems, Graphs + Heuristics\n",
    "description:  Undecidable Problems, Graphs + Heuristics homeworks\n",
    "type: issues \n",
    "comments: true\n",
    "---"
   ]
  },
  {
   "cell_type": "markdown",
   "id": "0f7ff246",
   "metadata": {},
   "source": [
    "## Homeworks"
   ]
  },
  {
   "cell_type": "markdown",
   "id": "e702d7c6",
   "metadata": {},
   "source": [
    "### **1. Another Undecidable Problem: The Post Correspondence Problem (PCP)**\n",
    "\n",
    "### 1. The Post Correspondence Problem (Undecidable Problem)\n",
    "\n",
    "The **Post Correspondence Problem (PCP)** is a classic undecidable problem. Given two lists of strings over some alphabet (for example, A = [a1, a2, ..., an] and B = [b1, b2, ..., bn]), the task is to determine whether there exists a sequence of indices \\(i_1, i_2, ..., i_k\\) such that the concatenation of strings from list A equals the concatenation of strings from list B:\n",
    "\n",
    "\\[\n",
    "a_{i_1} a_{i_2} ... a_{i_k} = b_{i_1} b_{i_2} ... b_{i_k}\n",
    "\\]\n",
    "\n",
    "There is no general algorithm that can decide for every input whether such a sequence exists. The Post Correspondence Problem is undecidable because it can simulate the behavior of a Turing machine. If it could be solved, it would imply the ability to solve the **Halting Problem**, which is known to be undecidable.\n"
   ]
  },
  {
   "cell_type": "markdown",
   "id": "13effbb9",
   "metadata": {},
   "source": [
    "### **2. Implement the Nearest Neighbor algorithm for the TSP in a programming language of your choice**"
   ]
  },
  {
   "cell_type": "code",
   "execution_count": 1,
   "id": "1b807e09",
   "metadata": {},
   "outputs": [
    {
     "name": "stdout",
     "output_type": "stream",
     "text": [
      "Route: ['A', 'D', 'B', 'C', 'E', 'A']\n",
      "Total Distance: 16.057599390507864\n"
     ]
    }
   ],
   "source": [
    "import math\n",
    "\n",
    "# Sample coordinates for 5 cities\n",
    "cities = {\n",
    "    'A': (0, 0),\n",
    "    'B': (2, 3),\n",
    "    'C': (5, 4),\n",
    "    'D': (1, 1),\n",
    "    'E': (6, 1)\n",
    "}\n",
    "\n",
    "def distance(p1, p2):\n",
    "    return math.hypot(p1[0] - p2[0], p1[1] - p2[1])\n",
    "\n",
    "def nearest_neighbor(cities, start):\n",
    "    unvisited = set(cities.keys())\n",
    "    unvisited.remove(start)\n",
    "    path = [start]\n",
    "    current = start\n",
    "\n",
    "    while unvisited:\n",
    "        # Find the nearest neighbor to the current city\n",
    "        next_city = min(unvisited, key=lambda city: distance(cities[current], cities[city]))\n",
    "        path.append(next_city)\n",
    "        unvisited.remove(next_city)\n",
    "        current = next_city\n",
    "\n",
    "    # Return to the starting city\n",
    "    path.append(start)\n",
    "    return path\n",
    "\n",
    "# Run the Nearest Neighbor algorithm starting from city 'A'\n",
    "route = nearest_neighbor(cities, 'A')\n",
    "\n",
    "# Print the route\n",
    "print(\"Route:\", route)\n",
    "\n",
    "# Optionally, print the total distance traveled (for additional analysis)\n",
    "total_distance = 0\n",
    "for i in range(len(route) - 1):\n",
    "    total_distance += distance(cities[route[i]], cities[route[i+1]])\n",
    "\n",
    "print(\"Total Distance:\", total_distance)"
   ]
  },
  {
   "cell_type": "markdown",
   "id": "aa84e7ba",
   "metadata": {},
   "source": [
    "### **3. Find a real-world example where heuristics are used and explain why an exact solution isn’t practical**\n",
    "\n",
    "### Context:\n",
    "Google Maps provides directions in real-time by computing routes between locations using traffic data, distances, and travel time.\n",
    "\n",
    "### Why Heuristics?\n",
    "An exact solution to the routing problem would require evaluating every possible path and permutation, which is computationally impractical — especially with real-time traffic updates. Instead, Google Maps uses heuristics, like the A* algorithm, which balances speed and optimality.\n",
    "\n",
    "### Bottom Line:\n",
    "Heuristics are used here because users need fast, “good-enough” answers — not mathematically perfect ones that take forever to calculate.\n"
   ]
  },
  {
   "cell_type": "markdown",
   "id": "cf8c7cb8",
   "metadata": {},
   "source": [
    "## **Kahoot**\n",
    "- Completed and took the screenshot."
   ]
  }
 ],
 "metadata": {
  "kernelspec": {
   "display_name": ".venv",
   "language": "python",
   "name": "python3"
  },
  "language_info": {
   "codemirror_mode": {
    "name": "ipython",
    "version": 3
   },
   "file_extension": ".py",
   "mimetype": "text/x-python",
   "name": "python",
   "nbconvert_exporter": "python",
   "pygments_lexer": "ipython3",
   "version": "3.12.3"
  }
 },
 "nbformat": 4,
 "nbformat_minor": 5
}
