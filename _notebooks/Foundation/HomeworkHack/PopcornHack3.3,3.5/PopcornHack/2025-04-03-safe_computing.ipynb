{
 "cells": [
  {
   "cell_type": "raw",
   "metadata": {
    "vscode": {
     "languageId": "raw"
    }
   },
   "source": [
    "---\n",
    "layout: post\n",
    "title: safe computing\n",
    "description:  safe computing homework\n",
    "type: issues \n",
    "comments: true\n",
    "---"
   ]
  },
  {
   "cell_type": "markdown",
   "metadata": {},
   "source": [
    "## Popcorn hack 1\n",
    "# Popcorn Hack #1\n",
    "\n",
    "**Example: Google**\n",
    "\n",
    "Google is a company that provides a wide range of services like Gmail, Google Maps, YouTube, Google Drive, Google Photos, and more. To offer these services, Google collects and stores a lot of Personally Identifiable Information (PII), such as:\n",
    "\n",
    "- Full name  \n",
    "- Email address  \n",
    "- Phone number  \n",
    "- Location history  \n",
    "- Search history  \n",
    "- Documents and photos stored in Drive  \n",
    "- Videos watched on YouTube  \n",
    "- Calendar events  \n",
    "- Contacts  \n",
    "\n",
    "## What happens if this data is stolen?\n",
    "\n",
    "If hackers were to get access to this information, it could have serious consequences. They could:\n",
    "\n",
    "- **Commit identity theft** by using your name, email, and phone number to open accounts or make purchases.  \n",
    "- **Access other accounts** that use the same email or password if you reuse credentials.  \n",
    "- **Use location data** to track where you’ve been or where you live.  \n",
    "- **Blackmail or manipulate** using sensitive info found in emails, photos, or search history.  \n",
    "- **Phish your contacts** by pretending to be you and sending fake emails.  \n",
    "\n",
    "Additionally, since Google is connected to many other websites and apps (such as using Google to sign in), hackers could potentially gain access to multiple platforms in a single attack. This increases the potential impact and the risks involved in having this information stolen.\n"
   ]
  },
  {
   "cell_type": "markdown",
   "metadata": {},
   "source": [
    "## Popcorn hack 2\n",
    "\n",
    "If you receive an email warning that your bank account is locked and instructing you to click a link to reset your password, follow these steps before taking any action:\n",
    "\n",
    "1. **Do not click the link** in the email right away. Scammers often use this method to trick you into visiting a fake website where they can steal your information.\n",
    "\n",
    "2. **Verify the sender**: Check the email address of the sender. Ensure that it matches the official email domain of your bank. Scammers often use email addresses that look similar but are slightly off (e.g., `support.bankxyz@look-alike.com`).\n",
    "\n",
    "3. **Contact your bank directly**: Use the official contact number or email from the bank's website (do not use any contact information provided in the suspicious email) to inquire about the situation. Ask them if there are any issues with your account.\n",
    "\n",
    "4. **Check your bank account**: Log into your bank account directly through the official website or app (not through the email link) to see if there are any alerts or notifications about your account status.\n",
    "\n",
    "5. **Look for red flags**: Scams often use urgent language, such as \"Immediate action required\" or \"Your account will be locked permanently.\" They may also include threats or promises of a reward to pressure you into acting quickly.\n",
    "\n",
    "6. **Enable two-factor authentication**: If you haven't already, set up two-factor authentication for your bank account to add an extra layer of security in case of phishing attempts.\n",
    "\n",
    "7. **Report the email**: If you confirm the email is a phishing attempt, report it to your bank and mark it as spam in your email inbox.\n"
   ]
  },
  {
   "cell_type": "markdown",
   "metadata": {},
   "source": [
    "## Popcorn hack 3\n",
    "# Popcorn Hack #3\n",
    "\n",
    "Public Wi-Fi networks can be exploited by hackers in various ways. Some common risks include:\n",
    "\n",
    "1. **Man-in-the-Middle Attacks (MITM)**: Hackers can intercept the communication between your device and the public Wi-Fi network. This allows them to capture sensitive information like passwords, credit card numbers, or personal messages that you send or receive while connected.\n",
    "\n",
    "2. **Rogue Hotspots**: Hackers can set up fake Wi-Fi networks with names similar to legitimate public networks. Once you connect to one of these rogue hotspots, hackers can monitor your traffic and steal your data.\n",
    "\n",
    "3. **Data Injection**: While on an unsecured public Wi-Fi network, hackers may inject malicious code or redirect your internet traffic to phishing websites that look like real ones, tricking you into entering sensitive information.\n",
    "\n",
    "4. **Exploitation of Device Vulnerabilities**: Hackers can exploit vulnerabilities in your device's software or network protocols while you're connected to a public Wi-Fi network, gaining access to your device or personal information.\n",
    "\n",
    "## Precautions to take when connecting to public Wi-Fi:\n",
    "\n",
    "1. **Use a Virtual Private Network (VPN)**: A VPN encrypts your internet traffic, making it difficult for hackers to intercept your data. Always use a VPN when connecting to public Wi-Fi.\n",
    "\n",
    "2. **Avoid accessing sensitive information**: Refrain from logging into bank accounts, making online purchases, or entering sensitive data when connected to public Wi-Fi.\n",
    "\n",
    "3. **Verify the network**: Ensure that you are connecting to the correct network by asking a staff member or checking the official signage. Avoid connecting to networks with generic names like \"Free Wi-Fi.\"\n",
    "\n",
    "4. **Enable two-factor authentication (2FA)**: If possible, use two-factor authentication for your online accounts to add an extra layer of security in case your credentials are compromised.\n",
    "\n",
    "5. **Use HTTPS**: Ensure that websites you visit use HTTPS (look for a padlock symbol in the browser). This encrypts the data sent between your device and the website, adding another layer of protection.\n",
    "\n",
    "6. **Turn off sharing**: Disable file sharing, printer sharing, and other network-sharing features while using public Wi-Fi to minimize the risk of unauthorized access to your device.\n",
    "\n",
    "7. **Keep your software up to date**: Make sure your device’s operating system and apps are regularly updated to patch known vulnerabilities that hackers could exploit.\n",
    "\n",
    "By taking these precautions, users can reduce the risk of having their data compromised on public Wi-Fi networks."
   ]
  }
 ],
 "metadata": {
  "language_info": {
   "name": "python"
  }
 },
 "nbformat": 4,
 "nbformat_minor": 2
}
