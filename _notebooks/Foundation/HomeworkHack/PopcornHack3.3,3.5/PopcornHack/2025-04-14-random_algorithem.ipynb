{
 "cells": [
  {
   "cell_type": "raw",
   "id": "44d0eb51",
   "metadata": {
    "vscode": {
     "languageId": "raw"
    }
   },
   "source": [
    "---\n",
    "layout: post\n",
    "title: Game and Simulation\n",
    "description:  Game and simulation homework\n",
    "type: issues \n",
    "comments: true\n",
    "---"
   ]
  },
  {
   "cell_type": "markdown",
   "id": "0cb2216d",
   "metadata": {},
   "source": [
    "# Homework hack 1: Coin flip and win simulation"
   ]
  },
  {
   "cell_type": "markdown",
   "id": "639fd11a",
   "metadata": {},
   "source": [
    "# Popcorn hack 1"
   ]
  },
  {
   "cell_type": "code",
   "execution_count": 9,
   "id": "7236c694",
   "metadata": {},
   "outputs": [
    {
     "name": "stdout",
     "output_type": "stream",
     "text": [
      "Dice roll: 6\n"
     ]
    }
   ],
   "source": [
    "import random\n",
    "\n",
    "def roll_dice():\n",
    "    return random.randint(1, 6)  # Simulates rolling a 6-sided die\n",
    "\n",
    "# Run it and show the result\n",
    "print(\"Dice roll:\", roll_dice())"
   ]
  },
  {
   "cell_type": "markdown",
   "id": "3eaeb26a",
   "metadata": {},
   "source": [
    "# Popcorn hack 2"
   ]
  },
  {
   "cell_type": "code",
   "execution_count": 10,
   "id": "eea80e13",
   "metadata": {},
   "outputs": [
    {
     "name": "stdout",
     "output_type": "stream",
     "text": [
      "Red\n",
      "Red\n",
      "Red\n",
      "Red\n",
      "Blue\n",
      "Red\n",
      "Blue\n",
      "Blue\n",
      "Purple\n",
      "Yellow\n"
     ]
    }
   ],
   "source": [
    "import random\n",
    "\n",
    "def biased_color():\n",
    "    colors = ['Red', 'Blue', 'Green', 'Yellow', 'Purple', 'Orange']\n",
    "    weights = [0.5, 0.3, 0.0667, 0.0667, 0.0333, 0.0333]  # Must sum to 1\n",
    "\n",
    "    return random.choices(colors, weights=weights, k=1)[0]  # Pick 1 biased color\n",
    "\n",
    "# Print 10 biased random colors\n",
    "for _ in range(10):\n",
    "    print(biased_color())\n"
   ]
  },
  {
   "cell_type": "markdown",
   "id": "3ba6ca3c",
   "metadata": {},
   "source": [
    "# Homework 1"
   ]
  },
  {
   "cell_type": "code",
   "execution_count": 8,
   "id": "02705c59",
   "metadata": {},
   "outputs": [
    {
     "name": "stdout",
     "output_type": "stream",
     "text": [
      "\n",
      "Round 1:\n",
      "Player 1 flips: tails\n",
      "Player 1 total heads: 0\n",
      "Player 2 flips: tails\n",
      "Player 2 total heads: 0\n",
      "\n",
      "Round 2:\n",
      "Player 1 flips: tails\n",
      "Player 1 total heads: 0\n",
      "Player 2 flips: tails\n",
      "Player 2 total heads: 0\n",
      "\n",
      "Round 3:\n",
      "Player 1 flips: tails\n",
      "Player 1 total heads: 0\n",
      "Player 2 flips: tails\n",
      "Player 2 total heads: 0\n",
      "\n",
      "Round 4:\n",
      "Player 1 flips: heads\n",
      "Player 1 total heads: 1\n",
      "Player 2 flips: heads\n",
      "Player 2 total heads: 1\n",
      "\n",
      "Round 5:\n",
      "Player 1 flips: heads\n",
      "Player 1 total heads: 2\n",
      "Player 2 flips: heads\n",
      "Player 2 total heads: 2\n",
      "\n",
      "Round 6:\n",
      "Player 1 flips: heads\n",
      "Player 1 total heads: 3\n",
      "Player 2 flips: heads\n",
      "Player 2 total heads: 3\n",
      "\n",
      " Game Over!\n",
      " Player 1 wins in 6 rounds!\n"
     ]
    }
   ],
   "source": [
    "import random\n",
    "\n",
    "def coin_flip_game():\n",
    "    player1_heads = 0\n",
    "    player2_heads = 0\n",
    "    rounds = 0\n",
    "\n",
    "    while player1_heads < 3 and player2_heads < 3:\n",
    "        rounds += 1\n",
    "        print(f\"\\nRound {rounds}:\")\n",
    "\n",
    "        # Player 1 flip\n",
    "        flip1 = random.choice([\"heads\", \"tails\"])\n",
    "        print(f\"Player 1 flips: {flip1}\")\n",
    "        if flip1 == \"heads\":\n",
    "            player1_heads += 1\n",
    "        print(f\"Player 1 total heads: {player1_heads}\")\n",
    "\n",
    "        # Player 2 flip\n",
    "        flip2 = random.choice([\"heads\", \"tails\"])\n",
    "        print(f\"Player 2 flips: {flip2}\")\n",
    "        if flip2 == \"heads\":\n",
    "            player2_heads += 1\n",
    "        print(f\"Player 2 total heads: {player2_heads}\")\n",
    "\n",
    "    print(\"\\n Game Over!\")\n",
    "    if player1_heads == 3:\n",
    "        print(f\" Player 1 wins in {rounds} rounds!\")\n",
    "    else:\n",
    "        print(f\" Player 2 wins in {rounds} rounds!\")\n",
    "\n",
    "# Run the game\n",
    "coin_flip_game()"
   ]
  },
  {
   "cell_type": "code",
   "execution_count": null,
   "id": "e476e8a3",
   "metadata": {},
   "outputs": [],
   "source": []
  }
 ],
 "metadata": {
  "kernelspec": {
   "display_name": ".venv",
   "language": "python",
   "name": "python3"
  },
  "language_info": {
   "codemirror_mode": {
    "name": "ipython",
    "version": 3
   },
   "file_extension": ".py",
   "mimetype": "text/x-python",
   "name": "python",
   "nbconvert_exporter": "python",
   "pygments_lexer": "ipython3",
   "version": "3.12.3"
  }
 },
 "nbformat": 4,
 "nbformat_minor": 5
}
