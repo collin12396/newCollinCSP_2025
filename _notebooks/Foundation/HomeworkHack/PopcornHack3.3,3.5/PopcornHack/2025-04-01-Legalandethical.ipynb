{
 "cells": [
  {
   "cell_type": "raw",
   "metadata": {
    "vscode": {
     "languageId": "raw"
    }
   },
   "source": [
    "---\n",
    "layout: post\n",
    "title: Legal and ethical\n",
    "description:  Legal and ethical homework\n",
    "type: issues \n",
    "comments: true\n",
    "---"
   ]
  },
  {
   "cell_type": "markdown",
   "metadata": {},
   "source": [
    "## Popcorn hack 1\n",
    "**Example of when it is your IP:**\n",
    "- If you buy a **custom graphic design** or **software** with a **license that grants ownership** or exclusive rights to use, modify, and distribute the work. For example, purchasing a design where the copyright is transferred to you.\n",
    "\n",
    "**Example of when it is not your IP:**\n",
    "- If you buy a **movie, music, or software**, where the seller only grants you a **license to use** the product but does not transfer ownership of the intellectual property. In this case, the original creator retains the copyright, and you cannot modify or distribute the product without permission.\n"
   ]
  },
  {
   "cell_type": "markdown",
   "metadata": {},
   "source": [
    "## Popcorn hack 2\n",
    "As a computer science student, the **MIT License** is often a good choice for your repository or site. \n",
    "\n",
    "- **Simplicity and Flexibility:** The MIT License is short, clear, and permissive. It allows anyone to freely use, modify, and distribute your code with minimal restrictions, as long as they include the original copyright notice and disclaimers.\n",
    "\n",
    "- **Encourages Collaboration:** It encourages others to contribute to your project because it places very few restrictions on the use of your code, allowing developers to integrate it into their own projects, including commercial ones.\n",
    "\n",
    "- **Popular in the Open-Source Community:** The MIT License is widely recognized and respected, making it easier for others to understand how they can use and contribute to your project."
   ]
  },
  {
   "cell_type": "markdown",
   "metadata": {},
   "source": []
  }
 ],
 "metadata": {
  "language_info": {
   "name": "python"
  }
 },
 "nbformat": 4,
 "nbformat_minor": 2
}
