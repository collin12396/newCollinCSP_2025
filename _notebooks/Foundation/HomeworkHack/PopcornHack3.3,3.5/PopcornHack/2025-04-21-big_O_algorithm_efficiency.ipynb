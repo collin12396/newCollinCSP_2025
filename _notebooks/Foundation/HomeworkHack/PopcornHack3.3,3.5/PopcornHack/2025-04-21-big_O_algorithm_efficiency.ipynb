{
 "cells": [
  {
   "cell_type": "raw",
   "id": "bf9c546a",
   "metadata": {
    "vscode": {
     "languageId": "raw"
    }
   },
   "source": [
    "---\n",
    "layout: post\n",
    "title: Big O and algorithm efficiency\n",
    "description:  Big O and algorithm efficiency homework\n",
    "type: issues \n",
    "comments: true\n",
    "---"
   ]
  },
  {
   "cell_type": "markdown",
   "id": "cfd9abef",
   "metadata": {},
   "source": [
    "## Example for O(1) - Constant time\n",
    "- No matter how big the input is, the time stays always the same."
   ]
  },
  {
   "cell_type": "code",
   "execution_count": 1,
   "id": "1ae8f233",
   "metadata": {},
   "outputs": [],
   "source": [
    "def get_first_item(arr):\n",
    "    return arr[0]  # Always just one step"
   ]
  },
  {
   "cell_type": "markdown",
   "id": "0571d827",
   "metadata": {},
   "source": [
    "## Example for O(log n) - Logarithmic Time\n",
    "- It is very common in binary search (cutting the search space in half)."
   ]
  },
  {
   "cell_type": "code",
   "execution_count": 2,
   "id": "9ee4c84f",
   "metadata": {},
   "outputs": [],
   "source": [
    "def binary_search(arr, target):\n",
    "    low, high = 0, len(arr) - 1\n",
    "    while low <= high:\n",
    "        mid = (low + high) // 2\n",
    "        if arr[mid] == target:\n",
    "            return True\n",
    "        elif arr[mid] < target:\n",
    "            low = mid + 1\n",
    "        else:\n",
    "            high = mid - 1\n",
    "    return False"
   ]
  },
  {
   "cell_type": "markdown",
   "id": "57db10c1",
   "metadata": {},
   "source": [
    "## Example of O(n) - Linear time\n",
    "- Go through the whole list once"
   ]
  },
  {
   "cell_type": "code",
   "execution_count": 3,
   "id": "1a448f8b",
   "metadata": {},
   "outputs": [],
   "source": [
    "def find_item(arr, target):\n",
    "    for item in arr:\n",
    "        if item == target:\n",
    "            return True\n",
    "    return False"
   ]
  },
  {
   "cell_type": "markdown",
   "id": "d84d1153",
   "metadata": {},
   "source": [
    "## Example of O(n^2) - Quadratic time\n",
    "- Nested loops over the same data, like comparing every pair."
   ]
  },
  {
   "cell_type": "code",
   "execution_count": null,
   "id": "a85fc68c",
   "metadata": {},
   "outputs": [],
   "source": [
    "def has_duplicates(arr):\n",
    "    for i in range(len(arr)):\n",
    "        for j in range(i + 1, len(arr)):\n",
    "            if arr[i] == arr[j]:\n",
    "                return True\n",
    "    return False"
   ]
  }
 ],
 "metadata": {
  "kernelspec": {
   "display_name": ".venv",
   "language": "python",
   "name": "python3"
  },
  "language_info": {
   "codemirror_mode": {
    "name": "ipython",
    "version": 3
   },
   "file_extension": ".py",
   "mimetype": "text/x-python",
   "name": "python",
   "nbconvert_exporter": "python",
   "pygments_lexer": "ipython3",
   "version": "3.12.3"
  }
 },
 "nbformat": 4,
 "nbformat_minor": 5
}
