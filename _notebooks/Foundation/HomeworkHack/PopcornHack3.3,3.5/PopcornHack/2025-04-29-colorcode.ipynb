{
 "cells": [
  {
   "cell_type": "raw",
   "id": "2ffb3968",
   "metadata": {
    "vscode": {
     "languageId": "raw"
    }
   },
   "source": [
    "---\n",
    "layout: post\n",
    "title: Color Codes, Images, Base64\n",
    "description:  Color Codes, Images, Base64 homeworks\n",
    "type: issues \n",
    "comments: true\n",
    "---"
   ]
  },
  {
   "cell_type": "markdown",
   "id": "a5494422",
   "metadata": {},
   "source": [
    "## Exercise 1"
   ]
  },
  {
   "cell_type": "code",
   "execution_count": 1,
   "id": "a4ee6123",
   "metadata": {},
   "outputs": [
    {
     "data": {
      "text/plain": [
       "{'#1E90FF': ((30, 144, 255), (30, 144, 255, 1)),\n",
       " '#32CD32': ((50, 205, 50), (50, 205, 50, 1)),\n",
       " '#FFD700': ((255, 215, 0), (255, 215, 0, 1))}"
      ]
     },
     "execution_count": 1,
     "metadata": {},
     "output_type": "execute_result"
    }
   ],
   "source": [
    "# Exercise 1: Convert Hex to RGB and RGBA\n",
    "\n",
    "# Function to convert hex to RGB and RGBA\n",
    "def hex_to_rgb(hex_code):\n",
    "    # Remove the '#' if present\n",
    "    hex_code = hex_code.lstrip('#')\n",
    "    \n",
    "    # Convert hex to RGB\n",
    "    rgb = tuple(int(hex_code[i:i+2], 16) for i in (0, 2, 4))\n",
    "    \n",
    "    # Convert RGB to RGBA with alpha = 1\n",
    "    rgba = (*rgb, 1)\n",
    "    \n",
    "    return rgb, rgba\n",
    "\n",
    "# Given hex codes\n",
    "hex_codes = ['#1E90FF', '#32CD32', '#FFD700']\n",
    "\n",
    "# Convert hex codes to RGB and RGBA\n",
    "rgb_rgba = {hex_code: hex_to_rgb(hex_code) for hex_code in hex_codes}\n",
    "\n",
    "# Display results\n",
    "rgb_rgba"
   ]
  },
  {
   "cell_type": "markdown",
   "id": "769b4b39",
   "metadata": {},
   "source": [
    "## Exercise 2: Design a 2x2 Icon and Calculate Storage"
   ]
  },
  {
   "cell_type": "code",
   "execution_count": 3,
   "id": "f1ba0476",
   "metadata": {},
   "outputs": [
    {
     "data": {
      "text/plain": [
       "96"
      ]
     },
     "execution_count": 3,
     "metadata": {},
     "output_type": "execute_result"
    }
   ],
   "source": [
    "# Exercise 2: Design a 2x2 Icon and Calculate Storage\n",
    "\n",
    "# Function to calculate storage (in bits)\n",
    "def calculate_storage(bits_per_pixel, width, height):\n",
    "    # Calculate the total bits required for storage\n",
    "    total_bits = bits_per_pixel * width * height\n",
    "    return total_bits\n",
    "\n",
    "# Define 24-bit color (8 bits per channel * 3 channels)\n",
    "bits_per_pixel = 24\n",
    "\n",
    "# Define a 2x2 icon\n",
    "width = 2\n",
    "height = 2\n",
    "\n",
    "# Calculate storage for 2x2 image\n",
    "storage_bits = calculate_storage(bits_per_pixel, width, height)\n",
    "\n",
    "# Display storage calculation\n",
    "storage_bits"
   ]
  },
  {
   "cell_type": "markdown",
   "id": "c4b25c5f",
   "metadata": {},
   "source": [
    "## Exercise 3: Base64 Encoding"
   ]
  },
  {
   "cell_type": "code",
   "execution_count": null,
   "id": "b9ee286b",
   "metadata": {},
   "outputs": [
    {
     "data": {
      "text/plain": [
       "'Q2F0'"
      ]
     },
     "execution_count": 4,
     "metadata": {},
     "output_type": "execute_result"
    }
   ],
   "source": [
    "# Exercise 3: Base64 Encoding\n",
    "\n",
    "import base64\n",
    "\n",
    "# Function to Base64 encode a string\n",
    "def encode_base64(input_string):\n",
    "    # Convert the string to bytes\n",
    "    byte_data = input_string.encode('utf-8')\n",
    "    \n",
    "    # Encode the bytes to Base64\n",
    "    encoded_string = base64.b64encode(byte_data).decode('utf-8')\n",
    "    return encoded_string\n",
    "\n",
    "# Base64 encode the string \"Cat\"\n",
    "encoded_string = encode_base64(\"Cat\")\n",
    "\n",
    "# Display Base64 encoded string\n",
    "encoded_string"
   ]
  },
  {
   "cell_type": "markdown",
   "id": "c6fd8a9b",
   "metadata": {},
   "source": [
    "## Exercise 4: Generate and Base64 Encode a 1x1 Red PNG Image"
   ]
  },
  {
   "cell_type": "code",
   "execution_count": null,
   "id": "6914bccd",
   "metadata": {},
   "outputs": [
    {
     "data": {
      "text/plain": [
       "'iVBORw0KGgoAAAANSUhEUgAAAAEAAAABCAIAAACQd1PeAAAADElEQVR4nGP4z8AAAAMBAQDJ/pLvAAAAAElFTkSuQmCC'"
      ]
     },
     "execution_count": 5,
     "metadata": {},
     "output_type": "execute_result"
    }
   ],
   "source": [
    "# Exercise 4: Generate and Base64 Encode a 1x1 Red PNG Image\n",
    "\n",
    "from PIL import Image\n",
    "import io\n",
    "import base64\n",
    "\n",
    "# Function to generate a 1x1 red PNG and encode it to Base64\n",
    "def generate_red_png_base64():\n",
    "    # Create a 1x1 red image\n",
    "    img = Image.new('RGB', (1, 1), color=(255, 0, 0))\n",
    "    \n",
    "    # Save the image to a BytesIO buffer\n",
    "    buffered = io.BytesIO()\n",
    "    img.save(buffered, format=\"PNG\")\n",
    "    \n",
    "    # Encode the image as Base64\n",
    "    img_base64 = base64.b64encode(buffered.getvalue()).decode('utf-8')\n",
    "    return img_base64\n",
    "\n",
    "# Generate Base64 encoded string of the 1x1 red PNG\n",
    "red_png_base64 = generate_red_png_base64()\n",
    "\n",
    "# Display Base64 encoded red PNG\n",
    "red_png_base64"
   ]
  }
 ],
 "metadata": {
  "kernelspec": {
   "display_name": ".venv",
   "language": "python",
   "name": "python3"
  },
  "language_info": {
   "codemirror_mode": {
    "name": "ipython",
    "version": 3
   },
   "file_extension": ".py",
   "mimetype": "text/x-python",
   "name": "python",
   "nbconvert_exporter": "python",
   "pygments_lexer": "ipython3",
   "version": "3.12.3"
  }
 },
 "nbformat": 4,
 "nbformat_minor": 5
}
