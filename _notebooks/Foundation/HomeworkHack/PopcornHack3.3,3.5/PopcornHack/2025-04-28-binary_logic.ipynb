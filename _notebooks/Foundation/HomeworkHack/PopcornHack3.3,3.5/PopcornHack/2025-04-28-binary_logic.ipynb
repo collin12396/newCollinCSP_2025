{
 "cells": [
  {
   "cell_type": "raw",
   "id": "141ee0f4",
   "metadata": {
    "vscode": {
     "languageId": "raw"
    }
   },
   "source": [
    "---\n",
    "layout: post\n",
    "title: Binary Base 2 Math + Logic Gates\n",
    "description:  Binary Base 2 Math + Logic Gates homeworks\n",
    "type: issues \n",
    "comments: true\n",
    "---"
   ]
  },
  {
   "cell_type": "markdown",
   "id": "ef8b8ae5",
   "metadata": {},
   "source": [
    "## Binary Calculator Implementation: Homework calculator"
   ]
  },
  {
   "cell_type": "code",
   "execution_count": null,
   "id": "6bf7fc87",
   "metadata": {},
   "outputs": [],
   "source": [
    "# Function to convert binary to decimal\n",
    "def binary_to_decimal(binary):\n",
    "    return int(binary, 2)\n",
    "\n",
    "# Function to convert decimal to binary\n",
    "def decimal_to_binary(decimal):\n",
    "    return bin(decimal)[2:]\n",
    "\n",
    "# Function for binary addition\n",
    "def binary_addition(bin1, bin2):\n",
    "    # Convert binaries to decimal\n",
    "    dec1 = binary_to_decimal(bin1)\n",
    "    dec2 = binary_to_decimal(bin2)\n",
    "    # Add the decimals and convert back to binary\n",
    "    return decimal_to_binary(dec1 + dec2)\n",
    "\n",
    "# Function for binary subtraction\n",
    "def binary_subtraction(bin1, bin2):\n",
    "    # Convert binaries to decimal\n",
    "    dec1 = binary_to_decimal(bin1)\n",
    "    dec2 = binary_to_decimal(bin2)\n",
    "    # Subtract the decimals and convert back to binary\n",
    "    return decimal_to_binary(dec1 - dec2)\n",
    "\n",
    "# Main function to drive the calculator\n",
    "def binary_calculator():\n",
    "    print(\"Welcome to the Binary Calculator!\")\n",
    "    \n",
    "    # Input from the user\n",
    "    choice = input(\"Choose an operation:\\n1. Add\\n2. Subtract\\n3. Convert Binary to Decimal\\n4. Convert Decimal to Binary\\n\")\n",
    "    \n",
    "    if choice == \"1\":\n",
    "        bin1 = input(\"Enter the first binary number: \")\n",
    "        bin2 = input(\"Enter the second binary number: \")\n",
    "        print(f\"Result of addition: {binary_addition(bin1, bin2)}\")\n",
    "    \n",
    "    elif choice == \"2\":\n",
    "        bin1 = input(\"Enter the first binary number: \")\n",
    "        bin2 = input(\"Enter the second binary number: \")\n",
    "        print(f\"Result of subtraction: {binary_subtraction(bin1, bin2)}\")\n",
    "    \n",
    "    elif choice == \"3\":\n",
    "        binary = input(\"Enter a binary number: \")\n",
    "        print(f\"Decimal equivalent: {binary_to_decimal(binary)}\")\n",
    "    \n",
    "    elif choice == \"4\":\n",
    "        decimal = int(input(\"Enter a decimal number: \"))\n",
    "        print(f\"Binary equivalent: {decimal_to_binary(decimal)}\")\n",
    "    \n",
    "    else:\n",
    "        print(\"Invalid choice! Please choose a valid operation.\")\n",
    "\n",
    "# Run the calculator\n",
    "binary_calculator()"
   ]
  }
 ],
 "metadata": {
  "kernelspec": {
   "display_name": ".venv",
   "language": "python",
   "name": "python3"
  },
  "language_info": {
   "codemirror_mode": {
    "name": "ipython",
    "version": 3
   },
   "file_extension": ".py",
   "mimetype": "text/x-python",
   "name": "python",
   "nbconvert_exporter": "python",
   "pygments_lexer": "ipython3",
   "version": "3.12.3"
  }
 },
 "nbformat": 4,
 "nbformat_minor": 5
}
