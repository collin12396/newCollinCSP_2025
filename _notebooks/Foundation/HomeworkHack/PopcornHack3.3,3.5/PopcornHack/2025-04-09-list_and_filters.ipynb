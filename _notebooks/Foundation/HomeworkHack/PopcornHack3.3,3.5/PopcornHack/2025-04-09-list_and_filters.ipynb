{
 "cells": [
  {
   "cell_type": "raw",
   "id": "49bee72e",
   "metadata": {
    "vscode": {
     "languageId": "raw"
    }
   },
   "source": [
    "---\n",
    "layout: post\n",
    "title: List and filter\n",
    "description:  List and filter homework\n",
    "type: issues \n",
    "comments: true\n",
    "---"
   ]
  },
  {
   "cell_type": "markdown",
   "id": "2c6ccbc5",
   "metadata": {},
   "source": [
    "## PopCorn Hack 1: Find Students with Scores in a Range"
   ]
  },
  {
   "cell_type": "code",
   "execution_count": 9,
   "id": "70f1a2a9",
   "metadata": {},
   "outputs": [
    {
     "name": "stdout",
     "output_type": "stream",
     "text": [
      "\n",
      " Students with scores between 80 and 90:\n",
      "  Name  Score\n",
      "1  Ben     85\n"
     ]
    },
    {
     "data": {
      "text/html": [
       "<div>\n",
       "<style scoped>\n",
       "    .dataframe tbody tr th:only-of-type {\n",
       "        vertical-align: middle;\n",
       "    }\n",
       "\n",
       "    .dataframe tbody tr th {\n",
       "        vertical-align: top;\n",
       "    }\n",
       "\n",
       "    .dataframe thead th {\n",
       "        text-align: right;\n",
       "    }\n",
       "</style>\n",
       "<table border=\"1\" class=\"dataframe\">\n",
       "  <thead>\n",
       "    <tr style=\"text-align: right;\">\n",
       "      <th></th>\n",
       "      <th>Name</th>\n",
       "      <th>Score</th>\n",
       "    </tr>\n",
       "  </thead>\n",
       "  <tbody>\n",
       "    <tr>\n",
       "      <th>1</th>\n",
       "      <td>Ben</td>\n",
       "      <td>85</td>\n",
       "    </tr>\n",
       "  </tbody>\n",
       "</table>\n",
       "</div>"
      ],
      "text/plain": [
       "  Name  Score\n",
       "1  Ben     85"
      ]
     },
     "execution_count": 9,
     "metadata": {},
     "output_type": "execute_result"
    }
   ],
   "source": [
    "import pandas as pd\n",
    "\n",
    "student_data = pd.DataFrame({\n",
    "    'Name': ['Ava', 'Ben', 'Charlie', 'Diana', 'Eli'],\n",
    "    'Score': [95, 85, 77, 62, 58]\n",
    "})\n",
    "\n",
    "def find_students_in_range(df, min_score, max_score):\n",
    "    result = df[(df['Score'] >= min_score) & (df['Score'] <= max_score)]\n",
    "    print(f\"\\n Students with scores between {min_score} and {max_score}:\\n{result}\")\n",
    "    return result\n",
    "\n",
    "find_students_in_range(student_data, 80, 90)"
   ]
  },
  {
   "cell_type": "markdown",
   "id": "c11e131b",
   "metadata": {},
   "source": [
    "## PopCorn Hack 2: Calculate Letter Grades"
   ]
  },
  {
   "cell_type": "code",
   "execution_count": 11,
   "id": "b0ebe659",
   "metadata": {},
   "outputs": [
    {
     "name": "stdout",
     "output_type": "stream",
     "text": [
      "\n",
      " Updated DataFrame with letter grades:\n",
      "      Name  Score Letter\n",
      "0      Ava     95      A\n",
      "1      Ben     85      B\n",
      "2  Charlie     77      C\n",
      "3    Diana     62      D\n",
      "4      Eli     58      F\n"
     ]
    },
    {
     "data": {
      "text/html": [
       "<div>\n",
       "<style scoped>\n",
       "    .dataframe tbody tr th:only-of-type {\n",
       "        vertical-align: middle;\n",
       "    }\n",
       "\n",
       "    .dataframe tbody tr th {\n",
       "        vertical-align: top;\n",
       "    }\n",
       "\n",
       "    .dataframe thead th {\n",
       "        text-align: right;\n",
       "    }\n",
       "</style>\n",
       "<table border=\"1\" class=\"dataframe\">\n",
       "  <thead>\n",
       "    <tr style=\"text-align: right;\">\n",
       "      <th></th>\n",
       "      <th>Name</th>\n",
       "      <th>Score</th>\n",
       "      <th>Letter</th>\n",
       "    </tr>\n",
       "  </thead>\n",
       "  <tbody>\n",
       "    <tr>\n",
       "      <th>0</th>\n",
       "      <td>Ava</td>\n",
       "      <td>95</td>\n",
       "      <td>A</td>\n",
       "    </tr>\n",
       "    <tr>\n",
       "      <th>1</th>\n",
       "      <td>Ben</td>\n",
       "      <td>85</td>\n",
       "      <td>B</td>\n",
       "    </tr>\n",
       "    <tr>\n",
       "      <th>2</th>\n",
       "      <td>Charlie</td>\n",
       "      <td>77</td>\n",
       "      <td>C</td>\n",
       "    </tr>\n",
       "    <tr>\n",
       "      <th>3</th>\n",
       "      <td>Diana</td>\n",
       "      <td>62</td>\n",
       "      <td>D</td>\n",
       "    </tr>\n",
       "    <tr>\n",
       "      <th>4</th>\n",
       "      <td>Eli</td>\n",
       "      <td>58</td>\n",
       "      <td>F</td>\n",
       "    </tr>\n",
       "  </tbody>\n",
       "</table>\n",
       "</div>"
      ],
      "text/plain": [
       "      Name  Score Letter\n",
       "0      Ava     95      A\n",
       "1      Ben     85      B\n",
       "2  Charlie     77      C\n",
       "3    Diana     62      D\n",
       "4      Eli     58      F"
      ]
     },
     "execution_count": 11,
     "metadata": {},
     "output_type": "execute_result"
    }
   ],
   "source": [
    "import pandas as pd\n",
    "\n",
    "student_data = pd.DataFrame({\n",
    "    'Name': ['Ava', 'Ben', 'Charlie', 'Diana', 'Eli'],\n",
    "    'Score': [95, 85, 77, 62, 58]\n",
    "})\n",
    "\n",
    "def add_letter_grades(df):\n",
    "    def get_letter(score):\n",
    "        if score >= 90:\n",
    "            return 'A'\n",
    "        elif score >= 80:\n",
    "            return 'B'\n",
    "        elif score >= 70:\n",
    "            return 'C'\n",
    "        elif score >= 60:\n",
    "            return 'D'\n",
    "        else:\n",
    "            return 'F'\n",
    "\n",
    "    df['Letter'] = df['Score'].apply(get_letter)\n",
    "    print(\"\\n Updated DataFrame with letter grades:\")\n",
    "    print(df)\n",
    "    return df\n",
    "\n",
    "add_letter_grades(student_data)"
   ]
  },
  {
   "cell_type": "markdown",
   "id": "917cff2b",
   "metadata": {},
   "source": [
    "## PopCorn Hack 3: Find the Mode in a Series"
   ]
  },
  {
   "cell_type": "code",
   "execution_count": 13,
   "id": "bf806e6f",
   "metadata": {},
   "outputs": [
    {
     "name": "stdout",
     "output_type": "stream",
     "text": [
      "\n",
      " The mode of the series is: 2\n"
     ]
    },
    {
     "data": {
      "text/plain": [
       "np.int64(2)"
      ]
     },
     "execution_count": 13,
     "metadata": {},
     "output_type": "execute_result"
    }
   ],
   "source": [
    "import pandas as pd\n",
    "\n",
    "def find_mode(series):\n",
    "    mode_value = series.mode().iloc[0]\n",
    "    print(f\"\\n The mode of the series is: {mode_value}\")\n",
    "    return mode_value\n",
    "\n",
    "find_mode(pd.Series([1, 2, 2, 3, 4, 2, 5]))"
   ]
  },
  {
   "cell_type": "markdown",
   "id": "c2a718a7",
   "metadata": {},
   "source": [
    "## Homework hacks:\n",
    "- Step 1: prepare the dataset:"
   ]
  },
  {
   "cell_type": "code",
   "execution_count": null,
   "id": "852c68a7",
   "metadata": {},
   "outputs": [],
   "source": [
    "import pandas as pd\n",
    "import matplotlib.pyplot as plt\n",
    "import seaborn as sns\n",
    "\n",
    "# Load and clean the dataset\n",
    "file_path = \"/home/your_path/dexcom_simulator_glucose.csv\"\n",
    "df = pd.read_csv(file_path)\n",
    "\n",
    "df.rename(columns={\n",
    "    'Timestamp': 'timestamp',\n",
    "    'GlucoseValue': 'glucose',\n",
    "    'Trend': 'trend'\n",
    "}, inplace=True)\n",
    "\n",
    "df['timestamp'] = pd.to_datetime(df['timestamp'])\n",
    "df = df.dropna(subset=['glucose'])\n",
    "df = df[df['glucose'] > 0]\n",
    "df = df.sort_values(by='timestamp')\n",
    "\n",
    "# Classify glucose levels\n",
    "def classify_glucose(value):\n",
    "    if value < 70:\n",
    "        return 'Hypo'\n",
    "    elif value > 180:\n",
    "        return 'Hyper'\n",
    "    else:\n",
    "        return 'Normal'\n",
    "\n",
    "df['glucose_level'] = df['glucose'].apply(classify_glucose)"
   ]
  },
  {
   "cell_type": "markdown",
   "id": "7f86787d",
   "metadata": {},
   "source": [
    "## Step 2: Crossword Terms Extraction (Identifying key terms for the crossword puzzle)\n",
    "- From the glucose data, I can extract key terms like \"Hypo\", \"Hyper\", \"Normal\", \"Glucose\", \"Threshold\", and the specific \"Trend\" types."
   ]
  },
  {
   "cell_type": "code",
   "execution_count": null,
   "id": "a80386f0",
   "metadata": {},
   "outputs": [],
   "source": [
    "import random\n",
    "import numpy as np\n",
    "\n",
    "# Define the crossword grid size (adjustable)\n",
    "grid_size = 15\n",
    "crossword_grid = np.full((grid_size, grid_size), '.', dtype=str)\n",
    "\n",
    "# List of words to insert into the crossword\n",
    "words = ['Hypo', 'Hyper', 'Normal', 'Glucose', 'Threshold', 'Trend', 'Mean', 'Max', 'Min', 'StdDev']\n",
    "\n",
    "# Function to randomly place words in the grid\n",
    "def place_word_in_grid(word, grid):\n",
    "    word_len = len(word)\n",
    "    \n",
    "    # Try to place horizontally or vertically\n",
    "    placed = False\n",
    "    while not placed:\n",
    "        direction = random.choice(['horizontal', 'vertical'])\n",
    "        if direction == 'horizontal':\n",
    "            row = random.randint(0, grid_size - 1)\n",
    "            col = random.randint(0, grid_size - word_len)\n",
    "            if all(grid[row, col + i] == '.' for i in range(word_len)):\n",
    "                for i in range(word_len):\n",
    "                    grid[row, col + i] = word[i]\n",
    "                placed = True\n",
    "        else:\n",
    "            row = random.randint(0, grid_size - word_len)\n",
    "            col = random.randint(0, grid_size - 1)\n",
    "            if all(grid[row + i, col] == '.' for i in range(word_len)):\n",
    "                for i in range(word_len):\n",
    "                    grid[row + i, col] = word[i]\n",
    "                placed = True\n",
    "\n",
    "    return grid\n",
    "\n",
    "# Create the crossword grid\n",
    "for word in words:\n",
    "    crossword_grid = place_word_in_grid(word, crossword_grid)\n",
    "\n",
    "# Display the crossword grid\n",
    "for row in crossword_grid:\n",
    "    print(' '.join(row))"
   ]
  },
  {
   "cell_type": "markdown",
   "id": "9e6d083c",
   "metadata": {},
   "source": [
    "## Create the Crossword (Using a simple grid format)\n",
    "- build a function to create a crossword from these terms"
   ]
  },
  {
   "cell_type": "code",
   "execution_count": null,
   "id": "f4321b3d",
   "metadata": {},
   "outputs": [],
   "source": [
    "import random\n",
    "import numpy as np\n",
    "\n",
    "# Define the crossword grid size (adjustable)\n",
    "grid_size = 15\n",
    "crossword_grid = np.full((grid_size, grid_size), '.', dtype=str)\n",
    "\n",
    "# List of words to insert into the crossword\n",
    "words = ['Hypo', 'Hyper', 'Normal', 'Glucose', 'Threshold', 'Trend', 'Mean', 'Max', 'Min', 'StdDev']\n",
    "\n",
    "# Function to randomly place words in the grid\n",
    "def place_word_in_grid(word, grid):\n",
    "    word_len = len(word)\n",
    "    \n",
    "    # Try to place horizontally or vertically\n",
    "    placed = False\n",
    "    while not placed:\n",
    "        direction = random.choice(['horizontal', 'vertical'])\n",
    "        if direction == 'horizontal':\n",
    "            row = random.randint(0, grid_size - 1)\n",
    "            col = random.randint(0, grid_size - word_len)\n",
    "            if all(grid[row, col + i] == '.' for i in range(word_len)):\n",
    "                for i in range(word_len):\n",
    "                    grid[row, col + i] = word[i]\n",
    "                placed = True\n",
    "        else:\n",
    "            row = random.randint(0, grid_size - word_len)\n",
    "            col = random.randint(0, grid_size - 1)\n",
    "            if all(grid[row + i, col] == '.' for i in range(word_len)):\n",
    "                for i in range(word_len):\n",
    "                    grid[row + i, col] = word[i]\n",
    "                placed = True\n",
    "\n",
    "    return grid\n",
    "\n",
    "# Create the crossword grid\n",
    "for word in words:\n",
    "    crossword_grid = place_word_in_grid(word, crossword_grid)\n",
    "\n",
    "# Display the crossword grid\n",
    "for row in crossword_grid:\n",
    "    print(' '.join(row))"
   ]
  },
  {
   "cell_type": "markdown",
   "id": "696ff2f6",
   "metadata": {},
   "source": [
    "## Visualizing the Crossword Grid\n",
    "- Now I create the crossword grid, So I can visualize it using a simple matplotlib plot for better readability:"
   ]
  },
  {
   "cell_type": "code",
   "execution_count": null,
   "id": "b2c2d8d5",
   "metadata": {},
   "outputs": [],
   "source": [
    "# Visualize the crossword grid using matplotlib\n",
    "fig, ax = plt.subplots(figsize=(8, 8))\n",
    "ax.set_xticks(np.arange(grid_size))\n",
    "ax.set_yticks(np.arange(grid_size))\n",
    "ax.set_xticklabels([])\n",
    "ax.set_yticklabels([])\n",
    "\n",
    "# Plot the grid\n",
    "ax.grid(which='both')\n",
    "\n",
    "# Add the crossword words as text\n",
    "for i in range(grid_size):\n",
    "    for j in range(grid_size):\n",
    "        ax.text(j, i, crossword_grid[i, j], ha='center', va='center', fontsize=12)\n",
    "\n",
    "plt.title(\"Glucose Crossword\")\n",
    "plt.show()"
   ]
  },
  {
   "cell_type": "markdown",
   "id": "8450e479",
   "metadata": {},
   "source": [
    "## Save the Final Crossword Grid\n",
    "\n",
    "Finally, I save the crossword grid as a CSV or image:"
   ]
  },
  {
   "cell_type": "code",
   "execution_count": null,
   "id": "44ea2fa9",
   "metadata": {},
   "outputs": [],
   "source": [
    "# Save the crossword grid as a CSV\n",
    "np.savetxt(\"glucose_crossword.csv\", crossword_grid, delimiter=\",\", fmt=\"%s\")\n",
    "\n",
    "# Alternatively, save the grid as an image\n",
    "fig.savefig(\"glucose_crossword.png\")"
   ]
  }
 ],
 "metadata": {
  "kernelspec": {
   "display_name": ".venv",
   "language": "python",
   "name": "python3"
  },
  "language_info": {
   "codemirror_mode": {
    "name": "ipython",
    "version": 3
   },
   "file_extension": ".py",
   "mimetype": "text/x-python",
   "name": "python",
   "nbconvert_exporter": "python",
   "pygments_lexer": "ipython3",
   "version": "3.12.3"
  }
 },
 "nbformat": 4,
 "nbformat_minor": 5
}
