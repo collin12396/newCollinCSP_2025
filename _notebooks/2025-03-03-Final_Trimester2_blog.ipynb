{
 "cells": [
  {
   "cell_type": "raw",
   "metadata": {
    "vscode": {
     "languageId": "raw"
    }
   },
   "source": [
    "---\n",
    "layout: post\n",
    "title: Trimester 2 final blog\n",
    "description:  Final review of trimester 2, concluding the 12 weeks progress.\n",
    "type: issues \n",
    "comments: true\n",
    "---"
   ]
  },
  {
   "cell_type": "markdown",
   "metadata": {},
   "source": [
    "## Five Things I’ve Done Throughout the 12-Week Trimester 🚀\n",
    "\n",
    "| Things I’ve Done | Relationship to My Role | Evidence of Work | Link to Relevant Pages |\n",
    "|------------------|------------------------|------------------|------------------------|\n",
    "| **Managed sprint issues & burndown charts, including assigning role to my teammates** | - As a frontend UI engineer, I help assigning role and their feature at the begining of the project. <br> - I managed my burndown list in the team kanban board to keep track with my progress. <br> - I also help creating team issues that help the team understand what they need to do for the next step.|  | [Sprint Issues](#) |\n",
    "| **Create interactive comment feature for the user to comment using apis and database** | - Base on the class content, create a comment feature that allows user to comment. <br> - learn how to use API and database to create link the backend and frontend. | Screenshots of UI designs, GitHub commits | [Frontend Code](#) |\n",
    "| **Created frontend page for team collaboration** | - Before the project, I talk to my teammates to decide the layout of the sites and I created it using frontend codes. <br> - Create subpages on the frontend website for teammates to work on. | Screenshots of editable frontend page, feedback from team | [Team Page](#) |\n",
    "| **Assisted in deployment process by keeping the website update** | - I help the team to keep the website deployed by using cockpit terminal with codes like docker compose up, docker compose down. <br> - I connect to the knowledge I learned from my big idea 4 notes. | Documentation of deployment steps, screenshots of live site | [Deployment Guide](#) |\n",
    "| **Participate in the night at the museum** | - I am the group presentor to the parents and other students. <br> - I take interest to other people's work by commenting, taking pictures, and giving feedback. <br> - Create the team google form to receive ideas from people who listen to our presentation/ <br> - I created a google sheet to display the result from people so easier to decide the further step in future. | Before/After screenshots, user feedback summary | [UI Updates](#) |"
   ]
  },
  {
   "cell_type": "markdown",
   "metadata": {},
   "source": []
  }
 ],
 "metadata": {
  "language_info": {
   "name": "python"
  }
 },
 "nbformat": 4,
 "nbformat_minor": 2
}
