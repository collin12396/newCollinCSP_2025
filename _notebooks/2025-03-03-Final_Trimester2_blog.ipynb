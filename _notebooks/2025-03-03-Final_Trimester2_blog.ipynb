{
 "cells": [
  {
   "cell_type": "raw",
   "metadata": {
    "vscode": {
     "languageId": "raw"
    }
   },
   "source": [
    "---\n",
    "layout: post\n",
    "title: Trimester 2 final blog\n",
    "description:  Final review of trimester 2, concluding the 12 weeks progress.\n",
    "type: issues \n",
    "comments: true\n",
    "---"
   ]
  },
  {
   "cell_type": "markdown",
   "metadata": {},
   "source": [
    "## Five Things I’ve Done Throughout the 12-Week Trimester 🚀\n",
    "\n",
    "| Things I’ve Done | Relationship to My Role | Evidence of Work | Link to Relevant Pages |\n",
    "|------------------|------------------------|------------------|------------------------|\n",
    "| **Managed sprint issues & burndown charts, including assigning role to my teammates** | - As a frontend UI engineer, I help assigning role and their feature at the begining of the project. <br> - I managed my burndown list in the team kanban board to keep track with my progress. <br> - I also help creating team issues that help the team understand what they need to do for the next step.| ![Team Role](https://raw.githubusercontent.com/collin12396/newCollinCSP_2025/main/images/11teamrole.png) | [teamrole issue](https://github.com/Annie0523/travelor_frontend/issues/22) |\n",
    "| **Create interactive comment feature for the user to comment using apis and database** | - Base on the class content, create a comment feature that allows user to comment. <br> - learn how to use API and database to create link the backend and frontend. | ![My Commits](https://raw.githubusercontent.com/collin12396/newCollinCSP_2025/main/images/33mycommits.png) | [Code in frontend](https://github.com/Annie0523/travelor_frontend/blob/main/index.md?plain=1) <br> [Code in backend](https://github.com/Annie0523/travelor_backend/blob/main/api/comments.py) |\n",
    "| **Created frontend page for team collaboration** | - Before the project, I talk to my teammates to decide the layout of the sites and I created it using frontend codes. <br> - Create subpages on the frontend website for teammates to work on. | ![First Design](https://raw.githubusercontent.com/collin12396/newCollinCSP_2025/main/images/55firstdesign.png) | [Team inital issue with designs](https://github.com/Annie0523/travelor_frontend/issues/1) |\n",
    "| **Assisted in deployment process by keeping the website update** | - I help the team to keep the website deployed by using cockpit terminal with codes like docker compose up, docker compose down. <br> - I connect to the knowledge I learned from my big idea 4 notes. | ![Deployment Blog](https://raw.githubusercontent.com/collin12396/newCollinCSP_2025/main/images/77deploymentblog.png) | [Deployment blog](https://collin12396.github.io/newCollinCSP_2025/2025/02/05/personal_deployment_plan_IPYNB_2_.html) |\n",
    "| **Participate in the night at the museum** | - I am the group presentor to the parents and other students. <br> - I take interest to other people's work by commenting, taking pictures, and giving feedback. <br> - Create the team google form to receive ideas from people who listen to our presentation/ <br> - I created a google sheet to display the result from people so easier to decide the further step in future. | ![List of Response](https://raw.githubusercontent.com/collin12396/newCollinCSP_2025/main/images/88listofresponse.png) | [Feedbacks](https://docs.google.com/forms/d/1fogp0C0m7OkrqQPPtptr8jbia846Uju2pPUtYBbxEiQ/edit#responses) |"
   ]
  },
  {
   "cell_type": "markdown",
   "metadata": {},
   "source": [
    "# MCQ Reflection\n",
    "\n",
    "## 1. **Question Overview**\n",
    "   - **Total Questions:** [67 Questions]\n",
    "   - **Completed Correctly:** [Answered 56 question correctly]\n",
    "   - **Total Score:** [56 / 67]\n",
    "   - **Link to the mcq** [Link to my answers](https://apclassroom.collegeboard.org/103/assessments/results/63893166/performance)\n",
    "   - **Total time spent** [1 hours 36 minutes]\n",
    "\n",
    "## 2. **Question Breakdown**\n",
    "\n",
    "| Question Number | Correct Answer | My Answer | Reflection on Mistake | How to Fix |\n",
    "|-----------------|----------------|-----------|-----------------------|------------|\n",
    "| Question 11      | A | D | I got this one wrong because I don't understand how to get the RGB values from 2 and power calculations.  | Know I know that 1 represent there is a power, and it start to gradually going down. Such that 11110000 is from 2 to the 8th power to 2 to the 4th power. |\n",
    "| Question 18      | B | C | This code segment rotates the robot right three times until it is facing toward the top of the grid and there is a free space to its right. It then attempts to move the robot forward off the edge of the grid, causing execution to terminate. | I learned that for this question I need to look at the outside loop instead of focusing on the inner turning code. |\n",
    "| Question 24      | B | A | For this question, it is a careless mistake that I did the multiplication wrong. | I simply redo the calculations and get the correct values. |\n",
    "| Question 32      | D | C | I got this question wrong because this code segment subtracts the lowest score from the sum. It erroneously divides this result by the number of scores rather than one less than the number of scores. | This code segment takes the sum of the individual scores and subtracts the lowest score. To obtain the average, the result is divided by one less than the number of scores. |\n",
    "| Question 33      | A | D | This answer is wrong because the information can be determined by comparing each student’s original average to the course grade after the lowest score was dropped. | Now I know that I need the individual schools, otherwise the administrator is unable to determine any of the student’s individual scores other than the lowest score. |\n",
    "| Question 34      | C | D | I got this question wrong because I messed up the order that 1 suppose to be the first one than the second one. | I can improve by observing the code more carefully since the order of which lines of code run first matters a lot in a program. |\n",
    "| Question 35      | B | A | This question is very tricky because my choice was indeed similar to the correct answer but it does not generalize it. I got this one wrong mainly because I did not read the question carefully enough | I can improve by reading the question more carefully. |\n",
    "| Question 43      | C | B | I got this one wrong mainly because I have trouble understanding diagrams that have complex relationship with other components. | I know that B is the correct answer instead by comparing to other answers. It is possible to have redundant routing in both configurations. In configuration I, some possible routes between computers Q and V include Q-P-V, Q-T-V, and Q-R-S-V. In configuration II, some possible routes between computers Q and V include Q-S-V, Q-R-T-V, and Q-P-T-V. |\n",
    "| Question 44      | B | A | I got this one write because I ignore the relationship for U and V. | The correct relationship is if the connections between U and V and between U and P were removed, then computer T and computer U can no longer communicate. |\n",
    "| Question 57     | C | B | I did not understand what internet communication means, so I apply to the wrong definition to the answer. |  Protocols for Internet communication, such as TCP/IP, are intended to define a standard format for messages sent between devices on the Internet. This is the real intended purpose of internet communication. |\n",
    "| Question 67     | A and B | B and D | I got this question wrong because the wrong logic, If one value equal zero, then the corresponding value should also equal to zero. | I chose the answer b correctly but i missed the A. For this code segment, count is increased to 1 the first time \"birch\" is encountered in the list. However, count is reset to 0 when the code segment moves to the next list element. The last time \"birch\" is encountered in the list, count is again increased to 1, causing the procedure to return 1 instead of the intended result 2. |\n",
    "\n",
    "## 3. **General Insights**\n",
    "   - Overall, I think I did better than I expected because many of the question types are still unfamiliar to me when I first saw them.\n",
    "   - I maintain the good technique I used from the previous practicing MC. When I encounter a problem I am unfamiliar with, I will go and research about the similar topics online, or I revisit the notes I took on the big ideas. \n",
    "\n",
    "## 4. **Plans for Improvement**\n",
    "   - **Strengthen Understanding of Binary and RGB Values:** Practice converting binary numbers to decimal and understanding how RGB values are derived from bit patterns. Use interactive tools or coding exercises to reinforce the concept.\n",
    "   - **Improve Attention to Code Execution Order:** Focus on reading code carefully, paying attention to loops and conditions, and tracing execution step-by-step to avoid misinterpreting logic.\n",
    "   - **Enhance Debugging Skills for Mathematical Operations:** Rework problems involving calculations to avoid careless mistakes. Implement a habit of double-checking math operations before finalizing an answer.\n",
    "   - **Develop Stronger Diagram Interpretation Skills:** Spend more time analyzing complex diagrams and network routing problems. Use real-world examples and simulations to strengthen pattern recognition.\n",
    "   - **Refine Careful Reading Strategies:** Read questions more thoroughly before answering, especially for tricky wording. Underline or annotate key parts of the question to prevent misinterpretation.\n",
    "   - **Review Internet Communication Protocols:** Study protocols like TCP/IP in depth, ensuring clarity on their role in internet communication.\n"
   ]
  },
  {
   "cell_type": "markdown",
   "metadata": {},
   "source": [
    "# Night at the Museum (N@tM) Reflection\n",
    "\n",
    "## 🌟 **What I Did During the Event**\n",
    "\n",
    "### **Event Overview**\n",
    "In this event, our group take the table and present our features to visting parents and other students, to share our ideas and project while having a chance to understand other people's project and learn from them.\n",
    "\n",
    "### **My Contributions**\n",
    "- **Taking the role as a presenter**: During the event, I present our features to the comming visitors, answering their questions, and demo the interactive to them.\n",
    "- **I create a google form for feedback**: I create a google form and print out the QR code, making it a poster that allow people listen to us to comment. Therefore we can gather opinions from other peoples.\n",
    "- **Engaged in Discussions**: I reflect on our groups project after the night at the museum, and put the ideas in a whole to discuss with teammates.\n",
    "\n",
    "![List of Response](https://raw.githubusercontent.com/collin12396/newCollinCSP_2025/main/images/88listofresponse.png)\n",
    "\n",
    "---\n",
    "\n",
    "## 💬 **Feedback from Other People**\n",
    "\n",
    "### **What People Said About My Contributions**\n",
    "- **Positive Feedback**: By evaluating the result, most positive comments talks about:\n",
    "    - The map feature is very interesting\n",
    "    - The overall design and layout is good\n",
    "    - There are a lot of interesting and interactive features that users can actually put their ideas in\n",
    "- **Suggestions for Improvement**: Many people give the suggestion of:\n",
    "    - Maybe there can be more user friendly because some features are hard to find.\n",
    "    - Some functionalities to change the thing that posted. \n",
    "    - The presentation is kind of confusing. (which we are working on until right now)\n",
    "\n",
    "### **Me giving feedbacks as I took interest in other project.**\n",
    "- I look at other people's project, giving them both positive and negative feedback that I think they did well or need improve on.\n",
    "\n",
    "\n",
    "---\n",
    "\n",
    "## 💡 **Giving Feedback to Others**\n",
    "\n",
    "### **Projects I Reviewed**\n",
    "During the event, I took a deep interest in several presentations:\n",
    "- **Sarah's Interactive Data Dashboard**: A project focused on visualizing real-time data for educational purposes.\n",
    "- **Tom's AI Chatbot**: A chatbot that uses machine learning to adapt responses based on user inputs.\n",
    "\n",
    "### **My Feedback to Peers**\n",
    "- **For Sarah's Data Dashboard**: \"The dashboard looks great! To make it even more intuitive, I suggest you add **interactive filters** so users can focus on the data points they care about.\"\n",
    "- **For Tom's AI Chatbot**: \"The chatbot’s responses are accurate! Consider improving the **conversation flow** by adding more personalized responses based on the user’s input history.\"\n",
    "\n",
    "### **Why I Gave Feedback**\n",
    "Providing feedback was essential for me to engage deeply with my peers' work. It also helped me learn new things about their approaches and solutions, which inspired me to improve my own projects. I enjoy taking an active role in fostering a **supportive learning environment** where everyone can improve.\n",
    "\n",
    "---"
   ]
  }
 ],
 "metadata": {
  "language_info": {
   "name": "python"
  }
 },
 "nbformat": 4,
 "nbformat_minor": 2
}
