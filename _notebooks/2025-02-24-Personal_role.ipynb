{
 "cells": [
  {
   "cell_type": "raw",
   "metadata": {
    "vscode": {
     "languageId": "raw"
    }
   },
   "source": [
    "---\n",
    "layout: post\n",
    "title: Personal role in the trimester\n",
    "description:  Summary of my accomplishment during the trimester base on my role\n",
    "type: issues \n",
    "comments: true\n",
    "---"
   ]
  },
  {
   "cell_type": "markdown",
   "metadata": {},
   "source": [
    "## Trimester Summary: Key Accomplishments  \n",
    "\n",
    "### 1. Integrating API with Frontend Features  \n",
    "As a **Frontend UX Engineer**, I learned how to create an API to better understand how the backend connects with the templates I designed. This allowed me to ensure that each frontend feature properly interacts with backend data, improving the overall user experience.  \n",
    "\n",
    "### 2. Assisting in AWS Deployment and Database Management  \n",
    "I supported the **Deployment Admin** by helping track database renewals and monitoring website updates in the **AWS Cockpit Terminal**. This experience strengthened my understanding of cloud deployment and maintaining a live web application.  \n",
    "\n",
    "### 3. Implementing User Management for Comments  \n",
    "On the homepage, I created a **user management database** for handling comments. Initially, the feature only worked on **localhost**, but after deployment, I ensured it functioned correctly on the live website, making it accessible to all users.  \n",
    "\n",
    "### 4. Frontend Debugging and UX Consistency  \n",
    "As part of my **Frontend UX Engineer** role, I collaborated with the team to resolve frontend issues. One major challenge was ensuring that **newly imported information properly displayed** on the page. Through debugging and troubleshooting, we improved the frontend’s reliability and responsiveness.  \n",
    "\n",
    "### 5. Organizing Tasks with Burndown Lists  \n",
    "I created and maintained a **burndown list** to track both my individual tasks and team-wide frontend improvements. This helped prioritize work efficiently and ensured smooth project progress throughout the trimester.  \n",
    "\n",
    "### Additional Contributions  \n",
    "- **Project Deployment**: Worked alongside the team to transition features from development to a fully deployed website.  \n",
    "- **Team Collaboration**: Assisted in problem-solving across different areas, ensuring seamless integration between frontend and backend.  \n",
    "- **Project Management**: Helped organize tasks and track issue resolution to maintain steady development progress.  \n",
    "\n",
    "These experiences allowed me to strengthen my skills in **API development, deployment management, and frontend UX engineering**, making significant contributions to the success of our project.\n"
   ]
  }
 ],
 "metadata": {
  "language_info": {
   "name": "python"
  }
 },
 "nbformat": 4,
 "nbformat_minor": 2
}
